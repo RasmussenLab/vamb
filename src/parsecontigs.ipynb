{
 "cells": [
  {
   "cell_type": "code",
   "execution_count": 1,
   "metadata": {},
   "outputs": [],
   "source": [
    "__doc__ = \"\"\"Calculate z-normalized tetranucleotide frequency from a FASTA file.\n",
    "\n",
    "Usage:\n",
    ">>> with open('/path/to/contigs.fna', 'rb') as filehandle\n",
    "...     tnfs, contignames, lengths = read_contigs(filehandle)\n",
    "\"\"\"\n",
    "\n",
    "__cmd_doc__ = \"\"\"Calculate z-normalized tetranucleotide frequency from a FASTA file.\n",
    "\n",
    "Input: A fasta file containing only A, C, G, T and N sequences\n",
    "Output: A (n_sequences * 136) matrix of tetranucleotide frequencies,\n",
    "z-normalized through axis 0.\n",
    "\"\"\""
   ]
  },
  {
   "cell_type": "code",
   "execution_count": 1,
   "metadata": {},
   "outputs": [
    {
     "ename": "ModuleNotFoundError",
     "evalue": "No module named 'vambtools'",
     "output_type": "error",
     "traceback": [
      "\u001b[0;31m---------------------------------------------------------------------------\u001b[0m",
      "\u001b[0;31mModuleNotFoundError\u001b[0m                       Traceback (most recent call last)",
      "\u001b[0;32m<ipython-input-1-ce37a4a45ad3>\u001b[0m in \u001b[0;36m<module>\u001b[0;34m()\u001b[0m\n\u001b[1;32m      5\u001b[0m \u001b[0;34m\u001b[0m\u001b[0m\n\u001b[1;32m      6\u001b[0m \u001b[0;32mif\u001b[0m \u001b[0m__package__\u001b[0m \u001b[0;32mis\u001b[0m \u001b[0;32mNone\u001b[0m \u001b[0;32mor\u001b[0m \u001b[0m__package__\u001b[0m \u001b[0;34m==\u001b[0m \u001b[0;34m''\u001b[0m\u001b[0;34m:\u001b[0m\u001b[0;34m\u001b[0m\u001b[0m\n\u001b[0;32m----> 7\u001b[0;31m     \u001b[0;32mimport\u001b[0m \u001b[0mvambtools\u001b[0m \u001b[0;32mas\u001b[0m \u001b[0m_vambtools\u001b[0m\u001b[0;34m\u001b[0m\u001b[0m\n\u001b[0m\u001b[1;32m      8\u001b[0m \u001b[0;34m\u001b[0m\u001b[0m\n\u001b[1;32m      9\u001b[0m \u001b[0;32melse\u001b[0m\u001b[0;34m:\u001b[0m\u001b[0;34m\u001b[0m\u001b[0m\n",
      "\u001b[0;31mModuleNotFoundError\u001b[0m: No module named 'vambtools'"
     ]
    }
   ],
   "source": [
    "import sys as _sys\n",
    "import os as _os\n",
    "import numpy as _np\n",
    "import gzip as _gzip\n",
    "import vamb.vambtools as _vambtools\n",
    "    \n",
    "if __name__ == '__main__':\n",
    "    import argparse"
   ]
  },
  {
   "cell_type": "code",
   "execution_count": 2,
   "metadata": {},
   "outputs": [],
   "source": [
    "TNF_HEADER = '#contigheader\\t' + '\\t'.join([\n",
    "'AAAA/TTTT', 'AAAC/GTTT', 'AAAG/CTTT', 'AAAT/ATTT',\n",
    "'AACA/TGTT', 'AACC/GGTT', 'AACG/CGTT', 'AACT/AGTT',\n",
    "'AAGA/TCTT', 'AAGC/GCTT', 'AAGG/CCTT', 'AAGT/ACTT',\n",
    "'AATA/TATT', 'AATC/GATT', 'AATG/CATT', 'AATT',\n",
    "'ACAA/TTGT', 'ACAC/GTGT', 'ACAG/CTGT', 'ACAT/ATGT',\n",
    "'ACCA/TGGT', 'ACCC/GGGT', 'ACCG/CGGT', 'ACCT/AGGT',\n",
    "'ACGA/TCGT', 'ACGC/GCGT', 'ACGG/CCGT', 'ACGT',\n",
    "'ACTA/TAGT', 'ACTC/GAGT', 'ACTG/CAGT', 'AGAA/TTCT',\n",
    "'AGAC/GTCT', 'AGAG/CTCT', 'AGAT/ATCT', 'AGCA/TGCT',\n",
    "'AGCC/GGCT', 'AGCG/CGCT', 'AGCT',      'AGGA/TCCT',\n",
    "'AGGC/GCCT', 'AGGG/CCCT', 'AGTA/TACT', 'AGTC/GACT',\n",
    "'AGTG/CACT', 'ATAA/TTAT', 'ATAC/GTAT', 'ATAG/CTAT',\n",
    "'ATAT',      'ATCA/TGAT', 'ATCC/GGAT', 'ATCG/CGAT',\n",
    "'ATGA/TCAT', 'ATGC/GCAT', 'ATGG/CCAT', 'ATTA/TAAT',\n",
    "'ATTC/GAAT', 'ATTG/CAAT', 'CAAA/TTTG', 'CAAC/GTTG',\n",
    "'CAAG/CTTG', 'CACA/TGTG', 'CACC/GGTG', 'CACG/CGTG',\n",
    "'CAGA/TCTG', 'CAGC/GCTG', 'CAGG/CCTG', 'CATA/TATG',\n",
    "'CATC/GATG', 'CATG',      'CCAA/TTGG', 'CCAC/GTGG',\n",
    "'CCAG/CTGG', 'CCCA/TGGG', 'CCCC/GGGG', 'CCCG/CGGG',\n",
    "'CCGA/TCGG', 'CCGC/GCGG', 'CCGG',      'CCTA/TAGG',\n",
    "'CCTC/GAGG', 'CGAA/TTCG', 'CGAC/GTCG', 'CGAG/CTCG',\n",
    "'CGCA/TGCG', 'CGCC/GGCG', 'CGCG',      'CGGA/TCCG',\n",
    "'CGGC/GCCG', 'CGTA/TACG', 'CGTC/GACG', 'CTAA/TTAG',\n",
    "'CTAC/GTAG', 'CTAG',      'CTCA/TGAG', 'CTCC/GGAG',\n",
    "'CTGA/TCAG', 'CTGC/GCAG', 'CTTA/TAAG', 'CTTC/GAAG',\n",
    "'GAAA/TTTC', 'GAAC/GTTC', 'GACA/TGTC', 'GACC/GGTC',\n",
    "'GAGA/TCTC', 'GAGC/GCTC', 'GATA/TATC', 'GATC',\n",
    "'GCAA/TTGC', 'GCAC/GTGC', 'GCCA/TGGC', 'GCCC/GGGC',\n",
    "'GCGA/TCGC', 'GCGC',      'GCTA/TAGC', 'GGAA/TTCC',\n",
    "'GGAC/GTCC', 'GGCA/TGCC', 'GGCC', 'GGGA/TCCC',\n",
    "'GGTA/TACC', 'GTAA/TTAC', 'GTAC', 'GTCA/TGAC',\n",
    "'GTGA/TCAC', 'GTTA/TAAC', 'TAAA/TTTA', 'TACA/TGTA',\n",
    "'TAGA/TCTA', 'TATA',      'TCAA/TTGA', 'TCCA/TGGA',\n",
    "'TCGA',      'TGAA/TTCA', 'TGCA', 'TTAA']) + '\\n'"
   ]
  },
  {
   "cell_type": "code",
   "execution_count": 4,
   "metadata": {},
   "outputs": [],
   "source": [
    "def read_contigs(byte_iterator, minlength=100):\n",
    "    \"\"\"Parses a FASTA file open in binary reading mode.\n",
    "    \n",
    "    Input:\n",
    "        byte_iterator: Iterator of binary lines of a FASTA file\n",
    "        minlength[100]: Ignore any references shorter than N bases \n",
    "    \n",
    "    Outputs:\n",
    "        tnfs: A (n_FASTA_entries x 136) matrix of tetranucleotide freq.\n",
    "        contignames: A lNumpy array of contig headers\n",
    "        lengths: A Numpy array of contig lengths\n",
    "    \"\"\"\n",
    "    \n",
    "    tnf_list = list()\n",
    "    contignames = list()\n",
    "    lengths = list()\n",
    "    \n",
    "    if byte_iterator is not iter(byte_iterator):\n",
    "        raise ValueError('byte_iterator is not an iterator')\n",
    "        \n",
    "    entries = _vambtools.byte_iterfasta(byte_iterator)\n",
    "\n",
    "    for entry in entries:\n",
    "        if len(entry) < minlength:\n",
    "            continue\n",
    "\n",
    "        tnf_list.append(entry.fourmer_freq())\n",
    "        contignames.append(entry.header)\n",
    "        lengths.append(len(entry))\n",
    "    \n",
    "    tnfs = _np.array(tnf_list, dtype=_np.float32)\n",
    "    del tnf_list\n",
    "    \n",
    "    if tnfs.ndim < 2 or tnfs.shape[1] < 2:\n",
    "        raise IndexError('Cannot normalize less than 2 contigs')\n",
    "    \n",
    "    _vambtools.zscore(tnfs, axis=0, inplace=True)\n",
    "    \n",
    "    lengths = _np.array(lengths, dtype=_np.int)\n",
    "    contignames = _np.array(contignames)\n",
    "\n",
    "    return tnfs, contignames, lengths"
   ]
  }
 ],
 "metadata": {
  "kernelspec": {
   "display_name": "Python 3",
   "language": "python",
   "name": "python3"
  },
  "language_info": {
   "codemirror_mode": {
    "name": "ipython",
    "version": 3
   },
   "file_extension": ".py",
   "mimetype": "text/x-python",
   "name": "python",
   "nbconvert_exporter": "python",
   "pygments_lexer": "ipython3",
   "version": "3.6.5"
  }
 },
 "nbformat": 4,
 "nbformat_minor": 2
}
