{
 "cells": [
  {
   "cell_type": "code",
   "execution_count": 2,
   "metadata": {},
   "outputs": [],
   "source": [
    "__doc__ = \"\"\"Filter contigs by length\n",
    "\n",
    "Input: Path to FASTA file with contigs\n",
    "Output: Writes FASTA file of filtered contigs\n",
    "\"\"\""
   ]
  },
  {
   "cell_type": "code",
   "execution_count": 6,
   "metadata": {},
   "outputs": [],
   "source": [
    "import sys as _sys\n",
    "import os as _os\n",
    "import argparse as _argparse\n",
    "\n",
    "if __package__ is None or __package__ == '':\n",
    "    import vambtools as _vambtools\n",
    "    \n",
    "else:\n",
    "    import vamb.vambtools as _vambtools"
   ]
  },
  {
   "cell_type": "code",
   "execution_count": 7,
   "metadata": {},
   "outputs": [],
   "source": [
    "def filtercontigs(infile, outfile, minlength=2000):\n",
    "    fasta_entries = _vambtools.byte_iterfasta(infile)\n",
    "\n",
    "    for entry in fasta_entries:\n",
    "        if len(entry) > minlength:\n",
    "            print(entry.format(), file=outfile)"
   ]
  },
  {
   "cell_type": "code",
   "execution_count": 8,
   "metadata": {},
   "outputs": [
    {
     "name": "stderr",
     "output_type": "stream",
     "text": [
      "usage: filtercontigs.py inpath outpath\n",
      "calculate_tnf.py: error: the following arguments are required: outpath\n"
     ]
    },
    {
     "ename": "SystemExit",
     "evalue": "2",
     "output_type": "error",
     "traceback": [
      "An exception has occurred, use %tb to see the full traceback.\n",
      "\u001b[0;31mSystemExit\u001b[0m\u001b[0;31m:\u001b[0m 2\n"
     ]
    },
    {
     "name": "stderr",
     "output_type": "stream",
     "text": [
      "/usr/lib/python3.6/site-packages/IPython/core/interactiveshell.py:2971: UserWarning: To exit: use 'exit', 'quit', or Ctrl-D.\n",
      "  warn(\"To exit: use 'exit', 'quit', or Ctrl-D.\", stacklevel=1)\n"
     ]
    }
   ],
   "source": [
    "if __name__ == '__main__':\n",
    "    parserkws = {'prog': 'calculate_tnf.py',\n",
    "                 'formatter_class': _argparse.RawDescriptionHelpFormatter,\n",
    "                 'usage': 'filtercontigs.py inpath outpath',\n",
    "                 'description': __doc__}\n",
    "\n",
    "    # Create the parser\n",
    "    parser = _argparse.ArgumentParser(**parserkws)\n",
    "\n",
    "    parser.add_argument('inpath', help='input FASTA file')\n",
    "    parser.add_argument('outpath', help='output FASTA file')\n",
    "    \n",
    "    parser.add_argument('-m', dest='minlength', type=int, default=2000,\n",
    "                        help='minimum length of contigs [2000]')\n",
    "\n",
    "    # Print help if no arguments are given\n",
    "    if len(_sys.argv) == 1:\n",
    "        parser.print_help()\n",
    "        _sys.exit()\n",
    "\n",
    "    args = parser.parse_args()\n",
    "    \n",
    "    if args.minlength < 4:\n",
    "        raise ValueError('Minlength must be at least 4')\n",
    "\n",
    "    if not _os.path.isfile(args.inpath):\n",
    "        raise FileNotFoundError(args.inpath)\n",
    "\n",
    "    if _os.path.exists(args.outpath):\n",
    "        raise FileExistsError(args.outpath)\n",
    "        \n",
    "    directory = _os.path.dirname(args.outpath)\n",
    "    if directory and not _os.path.isdir(directory):\n",
    "        raise NotADirectoryError(directory)\n",
    "    \n",
    "    with open(args.inpath) as infile, open(args.outpath, 'w') as outfile:\n",
    "        filtercontigs(infile, outfile, args.minlength)"
   ]
  },
  {
   "cell_type": "code",
   "execution_count": null,
   "metadata": {},
   "outputs": [],
   "source": []
  }
 ],
 "metadata": {
  "kernelspec": {
   "display_name": "Python 3",
   "language": "python",
   "name": "python3"
  },
  "language_info": {
   "codemirror_mode": {
    "name": "ipython",
    "version": 3
   },
   "file_extension": ".py",
   "mimetype": "text/x-python",
   "name": "python",
   "nbconvert_exporter": "python",
   "pygments_lexer": "ipython3",
   "version": "3.6.5"
  }
 },
 "nbformat": 4,
 "nbformat_minor": 2
}
