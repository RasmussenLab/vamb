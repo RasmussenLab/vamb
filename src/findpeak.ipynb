{
 "cells": [
  {
   "cell_type": "code",
   "execution_count": 3,
   "metadata": {},
   "outputs": [],
   "source": [
    "import sys as _sys\n",
    "import os as _os\n",
    "import numpy as _np\n",
    "import random as _random\n",
    "from math import sqrt as _sqrt\n",
    "\n",
    "# if __package__ is None or __package__ == '':\n",
    "#     import vambtools as _vambtools\n",
    "#     from cluster import _distances_to_vector as _distance\n",
    "    \n",
    "# else:\n",
    "#     import vamb.vambtools as _vambtools\n",
    "#     from vamb.cluster import _distances_to_vector as _distance\n",
    "    \n",
    "if __name__ == '__main__':\n",
    "    import argparse"
   ]
  },
  {
   "cell_type": "markdown",
   "metadata": {},
   "source": [
    "# Here, add the path of the \"vamb\" directory\n",
    "\n",
    "# And the path to Metabat latent rep"
   ]
  },
  {
   "cell_type": "code",
   "execution_count": 6,
   "metadata": {},
   "outputs": [],
   "source": [
    "latentpath = '/home/jakni/Downloads/binningexample/metabat_latent.tsv.gz'\n",
    "\n",
    "_sys.path.append('..')\n",
    "import vambtools as _vambtools\n",
    "from cluster import _distances_to_vector as _distance"
   ]
  },
  {
   "cell_type": "code",
   "execution_count": 82,
   "metadata": {},
   "outputs": [],
   "source": [
    "# This is the PDF of normal with µ=0, s=0.015 from -0.4975 to 0.4975 with intervals\n",
    "# of 0.005, for a total of 200 values\n",
    "\n",
    "NORMALPDF = _np.array([3.60430797e-238, 2.15804846e-233, 1.15623351e-228, 5.54338405e-224,\n",
    "       2.37820584e-219, 9.12996205e-215, 3.13641528e-210, 9.64146896e-206,\n",
    "       2.65214895e-201, 6.52826346e-197, 1.43794572e-192, 2.83421224e-188,\n",
    "       4.99881774e-184, 7.88946029e-180, 1.11422358e-175, 1.40812903e-171,\n",
    "       1.59241997e-167, 1.61145372e-163, 1.45922787e-159, 1.18242459e-155,\n",
    "       8.57371116e-152, 5.56300308e-148, 3.22994265e-144, 1.67812914e-140,\n",
    "       7.80191120e-137, 3.24579947e-133, 1.20833520e-129, 4.02529972e-126,\n",
    "       1.19992494e-122, 3.20077386e-119, 7.64013375e-116, 1.63189416e-112,\n",
    "       3.11909121e-109, 5.33469037e-106, 8.16460951e-103, 1.11816702e-099,\n",
    "       1.37032314e-096, 1.50274180e-093, 1.47465625e-090, 1.29491805e-087,\n",
    "       1.01751034e-084, 7.15451889e-082, 4.50160201e-079, 2.53453805e-076,\n",
    "       1.27695499e-073, 5.75701585e-071, 2.32254596e-068, 8.38448255e-066,\n",
    "       2.70852764e-063, 7.82952357e-061, 2.02526780e-058, 4.68786004e-056,\n",
    "       9.70983553e-054, 1.79967535e-051, 2.98484319e-049, 4.42990007e-047,\n",
    "       5.88316998e-045, 6.99155730e-043, 7.43500909e-041, 7.07512543e-039,\n",
    "       6.02465026e-037, 4.59065437e-035, 3.13013024e-033, 1.90983249e-031,\n",
    "       1.04273321e-029, 5.09443694e-028, 2.22722572e-026, 8.71319300e-025,\n",
    "       3.05025039e-023, 9.55517636e-022, 2.67847120e-020, 6.71862360e-019,\n",
    "       1.50806027e-017, 3.02902003e-016, 5.44415709e-015, 8.75596887e-014,\n",
    "       1.26015169e-012, 1.62288036e-011, 1.87023094e-010, 1.92863049e-009,\n",
    "       1.77970441e-008, 1.46957509e-007, 1.08587728e-006, 7.17984003e-006,\n",
    "       4.24809135e-005, 2.24914774e-004, 1.06558274e-003, 4.51753399e-003,\n",
    "       1.71380237e-002, 5.81788463e-002, 1.76731730e-001, 4.80406651e-001,\n",
    "       1.16855337e+000, 2.54350823e+000, 4.95407757e+000, 8.63450638e+000,\n",
    "       1.34665790e+001, 1.87941250e+001, 2.34710218e+001, 2.62293144e+001,\n",
    "       2.62293144e+001, 2.34710218e+001, 1.87941250e+001, 1.34665790e+001,\n",
    "       8.63450638e+000, 4.95407757e+000, 2.54350823e+000, 1.16855337e+000,\n",
    "       4.80406651e-001, 1.76731730e-001, 5.81788463e-002, 1.71380237e-002,\n",
    "       4.51753399e-003, 1.06558274e-003, 2.24914774e-004, 4.24809135e-005,\n",
    "       7.17984003e-006, 1.08587728e-006, 1.46957509e-007, 1.77970441e-008,\n",
    "       1.92863049e-009, 1.87023094e-010, 1.62288036e-011, 1.26015169e-012,\n",
    "       8.75596887e-014, 5.44415709e-015, 3.02902003e-016, 1.50806027e-017,\n",
    "       6.71862360e-019, 2.67847120e-020, 9.55517636e-022, 3.05025039e-023,\n",
    "       8.71319300e-025, 2.22722572e-026, 5.09443694e-028, 1.04273321e-029,\n",
    "       1.90983249e-031, 3.13013024e-033, 4.59065437e-035, 6.02465026e-037,\n",
    "       7.07512543e-039, 7.43500909e-041, 6.99155730e-043, 5.88316998e-045,\n",
    "       4.42990007e-047, 2.98484319e-049, 1.79967535e-051, 9.70983553e-054,\n",
    "       4.68786004e-056, 2.02526780e-058, 7.82952357e-061, 2.70852764e-063,\n",
    "       8.38448255e-066, 2.32254596e-068, 5.75701585e-071, 1.27695499e-073,\n",
    "       2.53453805e-076, 4.50160201e-079, 7.15451889e-082, 1.01751034e-084,\n",
    "       1.29491805e-087, 1.47465625e-090, 1.50274180e-093, 1.37032314e-096,\n",
    "       1.11816702e-099, 8.16460951e-103, 5.33469037e-106, 3.11909121e-109,\n",
    "       1.63189416e-112, 7.64013375e-116, 3.20077386e-119, 1.19992494e-122,\n",
    "       4.02529972e-126, 1.20833520e-129, 3.24579947e-133, 7.80191120e-137,\n",
    "       1.67812914e-140, 3.22994265e-144, 5.56300308e-148, 8.57371116e-152,\n",
    "       1.18242459e-155, 1.45922787e-159, 1.61145372e-163, 1.59241997e-167,\n",
    "       1.40812903e-171, 1.11422358e-175, 7.88946029e-180, 4.99881774e-184,\n",
    "       2.83421224e-188, 1.43794572e-192, 6.52826346e-197, 2.65214895e-201,\n",
    "       9.64146896e-206, 3.13641528e-210, 9.12996205e-215, 2.37820584e-219,\n",
    "       5.54338405e-224, 1.15623351e-228, 2.15804846e-233, 3.60430797e-238])\n",
    "\n",
    "NBINS = 400"
   ]
  },
  {
   "cell_type": "code",
   "execution_count": 534,
   "metadata": {},
   "outputs": [
    {
     "ename": "NameError",
     "evalue": "name 'latentpath' is not defined",
     "output_type": "error",
     "traceback": [
      "\u001b[0;31m---------------------------------------------------------------------------\u001b[0m",
      "\u001b[0;31mNameError\u001b[0m                                 Traceback (most recent call last)",
      "\u001b[0;32m<ipython-input-534-6c7991e0b761>\u001b[0m in \u001b[0;36m<module>\u001b[0;34m()\u001b[0m\n\u001b[0;32m----> 1\u001b[0;31m \u001b[0mlatent\u001b[0m \u001b[0;34m=\u001b[0m \u001b[0m_vambtools\u001b[0m\u001b[0;34m.\u001b[0m\u001b[0mread_tsv\u001b[0m\u001b[0;34m(\u001b[0m\u001b[0mlatentpath\u001b[0m\u001b[0;34m)\u001b[0m\u001b[0;34m\u001b[0m\u001b[0m\n\u001b[0m",
      "\u001b[0;31mNameError\u001b[0m: name 'latentpath' is not defined"
     ]
    }
   ],
   "source": [
    "latent = _vambtools.read_tsv(latentpath)"
   ]
  },
  {
   "cell_type": "code",
   "execution_count": 47,
   "metadata": {},
   "outputs": [],
   "source": [
    "_vambtools.zscore(latent, axis=1, inplace=True)"
   ]
  },
  {
   "cell_type": "code",
   "execution_count": 391,
   "metadata": {},
   "outputs": [],
   "source": [
    "def _samplehist(matrix, bins=_np.linspace(0, 1, NBINS + 1)):\n",
    "    length = len(matrix)\n",
    "    \n",
    "    distances = _distance(matrix, _random.randrange(len(matrix)))\n",
    "    histogram, _ = _np.histogram(distances, bins=bins)\n",
    "    histogram[0] -= 1 # compensate for self-correlation of chosen contig\n",
    "    \n",
    "    normalized = histogram / _np.sum(histogram)\n",
    "    normalized *= NBINS\n",
    "    \n",
    "    return normalized"
   ]
  },
  {
   "cell_type": "code",
   "execution_count": 392,
   "metadata": {},
   "outputs": [],
   "source": [
    "def _kde(histogram, pdf=NORMALPDF):\n",
    "    density = _np.zeros(600)\n",
    "    for i, number in enumerate(histogram):\n",
    "        density[i:i+200] += pdf * number\n",
    "        \n",
    "    normalized = density[100:-100]\n",
    "    normalized /= _np.sum(normalized)\n",
    "    normalized *= NBINS\n",
    "    \n",
    "    return normalized"
   ]
  },
  {
   "cell_type": "code",
   "execution_count": 393,
   "metadata": {},
   "outputs": [],
   "source": [
    "def _diff(kde, deltax=1/NBINS):\n",
    "    if len(kde) < 2:\n",
    "        raise IndexError('Must have at least two elements')\n",
    "    \n",
    "    return (kde[1:] - kde[:-1]) / deltax"
   ]
  },
  {
   "cell_type": "code",
   "execution_count": 592,
   "metadata": {},
   "outputs": [],
   "source": [
    "def _findzeros(kde, xs=_np.linspace(1.5*(1/NBINS), 1-0.5*(1/NBINS), NBINS - 1)):\n",
    "    #Altså du tager en contig C, så udregner Pearson distance p til alle andre contigs.\n",
    "    # Distributionen af disse afstande differentierer du så, så du får en ny fordeling d(p),\n",
    "    # altså den differentierede densitet på Y-aksen og pearson på x.\n",
    "    #Så tager du alle pearson-værdier hvor 0.25 > d(p) > -0.25 og p < 0.2.\n",
    "    #Og så udregner du hvor stor en andel af den tilbageværende densitet er er ved forskellige kumulative p værdier?\n",
    "    \n",
    "    if len(kde) != len(xs) + 1:\n",
    "        raise ValueError('kde and xs must have same length')\n",
    "    \n",
    "    diffs = _diff(kde)\n",
    "    \n",
    "    TOLERANCE = 3\n",
    "    \n",
    "    zeros = list()\n",
    "    \n",
    "    # First, get the first negative slope - if there is none, return empty\n",
    "    # list of zeros\n",
    "    pairs = zip(diffs, kde[1:], xs)\n",
    "        \n",
    "    for diff, kde, x in pairs:\n",
    "        if diff < 0 and kde > 0.005:\n",
    "            print('First neg slope found at', x)\n",
    "            break\n",
    "        \n",
    "        if x > 0.4:\n",
    "            return zeros\n",
    "        \n",
    "    # Then continue until you hit near 0.01 in values\n",
    "    for diff, kde, x in pairs:\n",
    "        if kde < 0.025:\n",
    "            print('First \"low\" value found at', x)\n",
    "            \n",
    "            zeros.append(x)\n",
    "            break\n",
    "        \n",
    "        if x > 0.4:\n",
    "            return zeros\n",
    "    \n",
    "    # Then continue until you see 5 values out of range:\n",
    "    for diff, kde, x in pairs:\n",
    "        if kde > 0.05:\n",
    "            print('KDE rose too high at', x)\n",
    "            \n",
    "            if len(zeros) > 10:\n",
    "                zeros = zeros[:-5]\n",
    "            \n",
    "            break\n",
    "        \n",
    "        zeros.append(x)\n",
    "        \n",
    "    return zeros"
   ]
  },
  {
   "cell_type": "markdown",
   "metadata": {},
   "source": [
    "# Just keep running this again and again"
   ]
  },
  {
   "cell_type": "code",
   "execution_count": 600,
   "metadata": {},
   "outputs": [
    {
     "name": "stdout",
     "output_type": "stream",
     "text": [
      "First neg slope found at 0.27625\n"
     ]
    },
    {
     "data": {
      "image/png": "[encoded data removed]",
      "text/plain": [
       "<Figure size 1080x432 with 1 Axes>"
      ]
     },
     "metadata": {},
     "output_type": "display_data"
    },
    {
     "data": {
      "image/png": "[encoded data removed]",
      "text/plain": [
       "<Figure size 540x432 with 1 Axes>"
      ]
     },
     "metadata": {},
     "output_type": "display_data"
    }
   ],
   "source": [
    "samplehist = _samplehist(latent)\n",
    "kde = _kde(samplehist)\n",
    "diffs = _diff(kde)\n",
    "zeros = _findzeros(kde)\n",
    "plt.figure(figsize=(15, 6))\n",
    "plt.plot(_np.linspace(1.5*(1/NBINS), 1-0.5*(1/NBINS), NBINS - 1), diffs)\n",
    "plt.axis([0, 1, -50, 50])\n",
    "plt.title('d_distance/d_desity (slope) ', fontsize=16)\n",
    "\n",
    "if zeros:\n",
    "    plt.vlines(zeros[0], -50, 50)\n",
    "    plt.vlines(zeros[-1], -50, 50)\n",
    "#plt.hlines(-100, 0, 1)\n",
    "\n",
    "plt.figure(figsize=(7.5, 6))\n",
    "plt.plot(_np.linspace(0.5*(1/NBINS), 0.25, NBINS//4), kde[:100])\n",
    "plt.title('KDE of density')\n",
    "\n",
    "if zeros:\n",
    "    plt.vlines(zeros[0], 0, plt.axis()[-1])\n",
    "    plt.vlines(zeros[-1], 0, plt.axis()[-1])"
   ]
  },
  {
   "cell_type": "code",
   "execution_count": null,
   "metadata": {},
   "outputs": [],
   "source": []
  },
  {
   "cell_type": "code",
   "execution_count": null,
   "metadata": {},
   "outputs": [],
   "source": []
  },
  {
   "cell_type": "code",
   "execution_count": null,
   "metadata": {},
   "outputs": [],
   "source": []
  },
  {
   "cell_type": "code",
   "execution_count": null,
   "metadata": {},
   "outputs": [],
   "source": []
  },
  {
   "cell_type": "code",
   "execution_count": null,
   "metadata": {},
   "outputs": [],
   "source": []
  },
  {
   "cell_type": "code",
   "execution_count": null,
   "metadata": {},
   "outputs": [],
   "source": []
  },
  {
   "cell_type": "code",
   "execution_count": null,
   "metadata": {},
   "outputs": [],
   "source": []
  },
  {
   "cell_type": "code",
   "execution_count": null,
   "metadata": {},
   "outputs": [],
   "source": []
  },
  {
   "cell_type": "code",
   "execution_count": null,
   "metadata": {},
   "outputs": [],
   "source": []
  },
  {
   "cell_type": "code",
   "execution_count": null,
   "metadata": {},
   "outputs": [],
   "source": []
  },
  {
   "cell_type": "code",
   "execution_count": null,
   "metadata": {},
   "outputs": [],
   "source": []
  },
  {
   "cell_type": "code",
   "execution_count": null,
   "metadata": {},
   "outputs": [],
   "source": []
  },
  {
   "cell_type": "code",
   "execution_count": null,
   "metadata": {},
   "outputs": [],
   "source": []
  },
  {
   "cell_type": "code",
   "execution_count": null,
   "metadata": {},
   "outputs": [],
   "source": []
  },
  {
   "cell_type": "code",
   "execution_count": null,
   "metadata": {},
   "outputs": [],
   "source": []
  },
  {
   "cell_type": "code",
   "execution_count": null,
   "metadata": {},
   "outputs": [],
   "source": []
  }
 ],
 "metadata": {
  "kernelspec": {
   "display_name": "Python 3",
   "language": "python",
   "name": "python3"
  },
  "language_info": {
   "codemirror_mode": {
    "name": "ipython",
    "version": 3
   },
   "file_extension": ".py",
   "mimetype": "text/x-python",
   "name": "python",
   "nbconvert_exporter": "python",
   "pygments_lexer": "ipython3",
   "version": "3.6.5"
  }
 },
 "nbformat": 4,
 "nbformat_minor": 2
}
