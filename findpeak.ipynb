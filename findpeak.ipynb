{
 "cells": [
  {
   "cell_type": "markdown",
   "metadata": {},
   "source": [
    "# Algorithm:\n",
    "\n",
    "1) Load in unshuffled latent rep.\n",
    "\n",
    "2) Take 1000 random contigs C:\n",
    "    Calculate Pearson to all other contigs\n",
    "    Save the 99.9% percentile value for later\n",
    "    Make histogram of pearsons (remember to remove 1 from pearson = 1, that's Pearson(C, C))\n",
    "    Add histogram to sum_histograms\n",
    "    \n",
    "3) Fit KDE:\n",
    "    Fit a normal distribution to each point in hist multiplied by value of sum_histograms\n",
    "    (you don't even need scipy.stats.norm, just precalculate the pdf)\n",
    "    \n",
    "4) Manually differentiate KDE - just do (y1 - y0)/(x1 - x0) for each consecutive y, x pair\n",
    "\n",
    "5) Find the biggest peak\n",
    "\n",
    "6) Find zeros in diff after biggest peak where it goes from positive to negative\n",
    "\n",
    "7) If there are not two total peaks (biggest + one found above):\n",
    "    Fall back to taking the 99.9% percentile of Pearson\n",
    "    \n",
    "    Else:\n",
    "        Determine standard dev of peak by looking at the left half for left peak,\n",
    "        right half for right peak\n",
    "        \n",
    "        If the two peaks are not a certain number of std devs from each other:\n",
    "        Fall back to taking the 99.9% percentile of Pearson\n",
    "        "
   ]
  },
  {
   "cell_type": "code",
   "execution_count": 49,
   "metadata": {},
   "outputs": [],
   "source": [
    "import sys\n",
    "import os\n",
    "import argparse\n",
    "import numpy as np\n",
    "import random\n",
    "from math import sqrt\n",
    "\n",
    "if __package__ is None or __package__ == '':\n",
    "    import vambtools\n",
    "    \n",
    "else:\n",
    "    import vamb.vambtools as vambtools"
   ]
  },
  {
   "cell_type": "code",
   "execution_count": 35,
   "metadata": {},
   "outputs": [],
   "source": [
    "# This is the PDF of normal with µ=0, s=0.015 from -0.4975 to 0.4975 with intervals\n",
    "# of 0.005, for a total of 200 values\n",
    "\n",
    "normalpdf = np.array([3.60430797e-238, 2.15804846e-233, 1.15623351e-228, 5.54338405e-224,\n",
    "       2.37820584e-219, 9.12996205e-215, 3.13641528e-210, 9.64146896e-206,\n",
    "       2.65214895e-201, 6.52826346e-197, 1.43794572e-192, 2.83421224e-188,\n",
    "       4.99881774e-184, 7.88946029e-180, 1.11422358e-175, 1.40812903e-171,\n",
    "       1.59241997e-167, 1.61145372e-163, 1.45922787e-159, 1.18242459e-155,\n",
    "       8.57371116e-152, 5.56300308e-148, 3.22994265e-144, 1.67812914e-140,\n",
    "       7.80191120e-137, 3.24579947e-133, 1.20833520e-129, 4.02529972e-126,\n",
    "       1.19992494e-122, 3.20077386e-119, 7.64013375e-116, 1.63189416e-112,\n",
    "       3.11909121e-109, 5.33469037e-106, 8.16460951e-103, 1.11816702e-099,\n",
    "       1.37032314e-096, 1.50274180e-093, 1.47465625e-090, 1.29491805e-087,\n",
    "       1.01751034e-084, 7.15451889e-082, 4.50160201e-079, 2.53453805e-076,\n",
    "       1.27695499e-073, 5.75701585e-071, 2.32254596e-068, 8.38448255e-066,\n",
    "       2.70852764e-063, 7.82952357e-061, 2.02526780e-058, 4.68786004e-056,\n",
    "       9.70983553e-054, 1.79967535e-051, 2.98484319e-049, 4.42990007e-047,\n",
    "       5.88316998e-045, 6.99155730e-043, 7.43500909e-041, 7.07512543e-039,\n",
    "       6.02465026e-037, 4.59065437e-035, 3.13013024e-033, 1.90983249e-031,\n",
    "       1.04273321e-029, 5.09443694e-028, 2.22722572e-026, 8.71319300e-025,\n",
    "       3.05025039e-023, 9.55517636e-022, 2.67847120e-020, 6.71862360e-019,\n",
    "       1.50806027e-017, 3.02902003e-016, 5.44415709e-015, 8.75596887e-014,\n",
    "       1.26015169e-012, 1.62288036e-011, 1.87023094e-010, 1.92863049e-009,\n",
    "       1.77970441e-008, 1.46957509e-007, 1.08587728e-006, 7.17984003e-006,\n",
    "       4.24809135e-005, 2.24914774e-004, 1.06558274e-003, 4.51753399e-003,\n",
    "       1.71380237e-002, 5.81788463e-002, 1.76731730e-001, 4.80406651e-001,\n",
    "       1.16855337e+000, 2.54350823e+000, 4.95407757e+000, 8.63450638e+000,\n",
    "       1.34665790e+001, 1.87941250e+001, 2.34710218e+001, 2.62293144e+001,\n",
    "       2.62293144e+001, 2.34710218e+001, 1.87941250e+001, 1.34665790e+001,\n",
    "       8.63450638e+000, 4.95407757e+000, 2.54350823e+000, 1.16855337e+000,\n",
    "       4.80406651e-001, 1.76731730e-001, 5.81788463e-002, 1.71380237e-002,\n",
    "       4.51753399e-003, 1.06558274e-003, 2.24914774e-004, 4.24809135e-005,\n",
    "       7.17984003e-006, 1.08587728e-006, 1.46957509e-007, 1.77970441e-008,\n",
    "       1.92863049e-009, 1.87023094e-010, 1.62288036e-011, 1.26015169e-012,\n",
    "       8.75596887e-014, 5.44415709e-015, 3.02902003e-016, 1.50806027e-017,\n",
    "       6.71862360e-019, 2.67847120e-020, 9.55517636e-022, 3.05025039e-023,\n",
    "       8.71319300e-025, 2.22722572e-026, 5.09443694e-028, 1.04273321e-029,\n",
    "       1.90983249e-031, 3.13013024e-033, 4.59065437e-035, 6.02465026e-037,\n",
    "       7.07512543e-039, 7.43500909e-041, 6.99155730e-043, 5.88316998e-045,\n",
    "       4.42990007e-047, 2.98484319e-049, 1.79967535e-051, 9.70983553e-054,\n",
    "       4.68786004e-056, 2.02526780e-058, 7.82952357e-061, 2.70852764e-063,\n",
    "       8.38448255e-066, 2.32254596e-068, 5.75701585e-071, 1.27695499e-073,\n",
    "       2.53453805e-076, 4.50160201e-079, 7.15451889e-082, 1.01751034e-084,\n",
    "       1.29491805e-087, 1.47465625e-090, 1.50274180e-093, 1.37032314e-096,\n",
    "       1.11816702e-099, 8.16460951e-103, 5.33469037e-106, 3.11909121e-109,\n",
    "       1.63189416e-112, 7.64013375e-116, 3.20077386e-119, 1.19992494e-122,\n",
    "       4.02529972e-126, 1.20833520e-129, 3.24579947e-133, 7.80191120e-137,\n",
    "       1.67812914e-140, 3.22994265e-144, 5.56300308e-148, 8.57371116e-152,\n",
    "       1.18242459e-155, 1.45922787e-159, 1.61145372e-163, 1.59241997e-167,\n",
    "       1.40812903e-171, 1.11422358e-175, 7.88946029e-180, 4.99881774e-184,\n",
    "       2.83421224e-188, 1.43794572e-192, 6.52826346e-197, 2.65214895e-201,\n",
    "       9.64146896e-206, 3.13641528e-210, 9.12996205e-215, 2.37820584e-219,\n",
    "       5.54338405e-224, 1.15623351e-228, 2.15804846e-233, 3.60430797e-238])"
   ]
  },
  {
   "cell_type": "code",
   "execution_count": 12,
   "metadata": {},
   "outputs": [],
   "source": [
    "# Load in latent representation\n",
    "def load_latent(path):\n",
    "    matrix = np.loadtxt(path, sep='\\t', dtype=np.float32)\n",
    "    \n",
    "    vambtools.zscore(matrix, axis=1, inplace=True)\n",
    "    \n",
    "    return matrix"
   ]
  },
  {
   "cell_type": "code",
   "execution_count": null,
   "metadata": {},
   "outputs": [],
   "source": [
    "def pearson(matrix, rownumber):\n",
    "    dotproducts = matrix @ matrix[n].T\n",
    "    pearson_correlations = dotproducts / matrix.shape[1]\n",
    "    \n",
    "    return pearson_correlations"
   ]
  },
  {
   "cell_type": "code",
   "execution_count": 22,
   "metadata": {},
   "outputs": [],
   "source": [
    "# 2) Take 1000 random contigs C:\n",
    "#     Calculate Pearson to all other contigs\n",
    "#     Save the 99.9% percentile value for later\n",
    "#     Make histogram of pearsons (remember to remove 1 from pearson = 1, that's Pearson(C, C))\n",
    "#     Add histogram to sum_histograms\n",
    "\n",
    "def sample_contigs(matrix, nsamples=250):\n",
    "    length = len(matrix)\n",
    "    topthousands = list()\n",
    "    sum_histograms = np.zeros(400)\n",
    "    bins = np.linspace(-1, 1, 401)\n",
    "    \n",
    "    for row in random.sample(range(length), k=nsamples):\n",
    "        pearsons = pearson(matrix, row)\n",
    "        \n",
    "        _, numbers = np.histogram(pearsons, bins=bins)\n",
    "        \n",
    "        numbers[-1] -= 1 # compensate for self-correlation of chosen contig\n",
    "        \n",
    "        sum_histograms += numbers\n",
    "        topthousands.append(np.percentile(numbers, 99.9))\n",
    "    \n",
    "    return sum_histograms, topthousands"
   ]
  },
  {
   "cell_type": "code",
   "execution_count": 37,
   "metadata": {},
   "outputs": [],
   "source": [
    "# 3) Fit KDE:\n",
    "#     Fit a normal distribution to each point in hist multiplied by value of sum_histograms\n",
    "#     (you don't even need scipy.stats.norm, just precalculate the pdf)\n",
    "\n",
    "def kernel_density_estimation(numbers):\n",
    "    density = np.zeros(600)\n",
    "    for i, number in enumerate(numbers):\n",
    "        density[i:i+200] += normalpdf * number\n",
    "        \n",
    "    return density[100:-100]"
   ]
  },
  {
   "cell_type": "code",
   "execution_count": 41,
   "metadata": {},
   "outputs": [],
   "source": [
    "# 5) Find the biggest peak\n",
    "# 6) Find zeros in diff after biggest peak where it goes from positive to negative\n",
    "\n",
    "def findzeros(density):\n",
    "    density_xs = np.linspace(-0.9975, 0.9975, 400)\n",
    "    biggestpeak_index = np.argmax(density)\n",
    "    biggestpeak = density_xs[biggestpeak_index]\n",
    "    \n",
    "    oldy = density[biggestpeakindex]\n",
    "    peaks = [biggestpeak]\n",
    "    slope_is_positive = False\n",
    "    for i, (x, y) in enumerate(zip(density_xs[1:], density[1:])):\n",
    "        if i <= biggestpeakindex:\n",
    "            continue\n",
    "            \n",
    "        diff = (y - oldy)\n",
    "        oldy = y\n",
    "        \n",
    "        if diff > 0:\n",
    "            slope_is_positive = True\n",
    "        \n",
    "        elif diff < 0:\n",
    "            if slope_is_positive:\n",
    "                peak.append(x)\n",
    "            \n",
    "            slope_is_positive = False\n",
    "            \n",
    "    return peaks"
   ]
  },
  {
   "cell_type": "code",
   "execution_count": 71,
   "metadata": {},
   "outputs": [
    {
     "name": "stderr",
     "output_type": "stream",
     "text": [
      "UsageError: Line magic function `%matplitlib` not found.\n"
     ]
    }
   ],
   "source": [
    "import scipy.stats\n",
    "import matplotlib.pyplot as plt\n",
    "%matplotlib inline"
   ]
  },
  {
   "cell_type": "code",
   "execution_count": 112,
   "metadata": {},
   "outputs": [],
   "source": [
    "def calc_std_leftpeak(xs, ys, peakx):\n",
    "    std = 0\n",
    "    totaln = 0\n",
    "    \n",
    "    for x, y in zip(xs, ys):\n",
    "        deltax = x - peakx\n",
    "        std += y * (deltax * deltax)\n",
    "        totaln += y\n",
    "        \n",
    "        if x == peakx:\n",
    "            break\n",
    "            \n",
    "    std /= totaln\n",
    "    return sqrt(std)"
   ]
  },
  {
   "cell_type": "code",
   "execution_count": 113,
   "metadata": {},
   "outputs": [],
   "source": [
    "a = scipy.stats.norm(scale=0.71).pdf(np.linspace(-5, 5, 1001))"
   ]
  },
  {
   "cell_type": "code",
   "execution_count": 114,
   "metadata": {},
   "outputs": [
    {
     "data": {
      "text/plain": [
       "0.7080136554684734"
      ]
     },
     "execution_count": 114,
     "metadata": {},
     "output_type": "execute_result"
    }
   ],
   "source": [
    "calc_std_leftpeak(np.linspace(-5, 5, 1001), a, 0)"
   ]
  },
  {
   "cell_type": "code",
   "execution_count": null,
   "metadata": {},
   "outputs": [],
   "source": [
    "# 7) If there are not two total peaks (biggest + one found above):\n",
    "#     Fall back to taking the 99.9% percentile of Pearson\n",
    "    \n",
    "#     Else:\n",
    "#         Determine standard dev of peak by looking at the left half for left peak,\n",
    "#         right half for right peak\n",
    "        \n",
    "#         If the two peaks are not a certain number of std devs from each other:\n",
    "#         Fall back to taking the 99.9% percentile of Pearson\n",
    "\n",
    "def validatepeaks(peaks, density):\n",
    "    density_xs = np.linspace(-0.9975, 0.9975, 400)\n",
    "    \n",
    "    if len(peaks) != 2:\n",
    "        return False\n",
    "    \n",
    "    # Get"
   ]
  },
  {
   "cell_type": "code",
   "execution_count": 21,
   "metadata": {},
   "outputs": [
    {
     "data": {
      "text/plain": [
       "9.0"
      ]
     },
     "execution_count": 21,
     "metadata": {},
     "output_type": "execute_result"
    }
   ],
   "source": [
    "np.percentile([5,3,8,2,1,1,8,9,9,6], 99.9)"
   ]
  },
  {
   "cell_type": "code",
   "execution_count": 19,
   "metadata": {},
   "outputs": [
    {
     "ename": "ValueError",
     "evalue": "Sample larger than population or is negative",
     "output_type": "error",
     "traceback": [
      "\u001b[0;31m---------------------------------------------------------------------------\u001b[0m",
      "\u001b[0;31mValueError\u001b[0m                                Traceback (most recent call last)",
      "\u001b[0;32m<ipython-input-19-6bb1c950b8c3>\u001b[0m in \u001b[0;36m<module>\u001b[0;34m()\u001b[0m\n\u001b[0;32m----> 1\u001b[0;31m \u001b[0mrandom\u001b[0m\u001b[0;34m.\u001b[0m\u001b[0msample\u001b[0m\u001b[0;34m(\u001b[0m\u001b[0mrange\u001b[0m\u001b[0;34m(\u001b[0m\u001b[0;36m9\u001b[0m\u001b[0;34m)\u001b[0m\u001b[0;34m,\u001b[0m \u001b[0mk\u001b[0m\u001b[0;34m=\u001b[0m\u001b[0;36m10\u001b[0m\u001b[0;34m)\u001b[0m\u001b[0;34m\u001b[0m\u001b[0m\n\u001b[0m",
      "\u001b[0;32m/usr/lib/python3.6/random.py\u001b[0m in \u001b[0;36msample\u001b[0;34m(self, population, k)\u001b[0m\n\u001b[1;32m    316\u001b[0m         \u001b[0mn\u001b[0m \u001b[0;34m=\u001b[0m \u001b[0mlen\u001b[0m\u001b[0;34m(\u001b[0m\u001b[0mpopulation\u001b[0m\u001b[0;34m)\u001b[0m\u001b[0;34m\u001b[0m\u001b[0m\n\u001b[1;32m    317\u001b[0m         \u001b[0;32mif\u001b[0m \u001b[0;32mnot\u001b[0m \u001b[0;36m0\u001b[0m \u001b[0;34m<=\u001b[0m \u001b[0mk\u001b[0m \u001b[0;34m<=\u001b[0m \u001b[0mn\u001b[0m\u001b[0;34m:\u001b[0m\u001b[0;34m\u001b[0m\u001b[0m\n\u001b[0;32m--> 318\u001b[0;31m             \u001b[0;32mraise\u001b[0m \u001b[0mValueError\u001b[0m\u001b[0;34m(\u001b[0m\u001b[0;34m\"Sample larger than population or is negative\"\u001b[0m\u001b[0;34m)\u001b[0m\u001b[0;34m\u001b[0m\u001b[0m\n\u001b[0m\u001b[1;32m    319\u001b[0m         \u001b[0mresult\u001b[0m \u001b[0;34m=\u001b[0m \u001b[0;34m[\u001b[0m\u001b[0;32mNone\u001b[0m\u001b[0;34m]\u001b[0m \u001b[0;34m*\u001b[0m \u001b[0mk\u001b[0m\u001b[0;34m\u001b[0m\u001b[0m\n\u001b[1;32m    320\u001b[0m         \u001b[0msetsize\u001b[0m \u001b[0;34m=\u001b[0m \u001b[0;36m21\u001b[0m        \u001b[0;31m# size of a small set minus size of an empty list\u001b[0m\u001b[0;34m\u001b[0m\u001b[0m\n",
      "\u001b[0;31mValueError\u001b[0m: Sample larger than population or is negative"
     ]
    }
   ],
   "source": [
    "random.sample(range(9), k=10)"
   ]
  },
  {
   "cell_type": "code",
   "execution_count": 4,
   "metadata": {},
   "outputs": [],
   "source": [
    "import numpy as np"
   ]
  },
  {
   "cell_type": "code",
   "execution_count": 26,
   "metadata": {},
   "outputs": [
    {
     "data": {
      "text/plain": [
       "-0.4975"
      ]
     },
     "execution_count": 26,
     "metadata": {},
     "output_type": "execute_result"
    }
   ],
   "source": [
    "(-0.5 + -0.495) / 2"
   ]
  },
  {
   "cell_type": "code",
   "execution_count": 27,
   "metadata": {},
   "outputs": [
    {
     "data": {
      "text/plain": [
       "array([-0.4975, -0.4925, -0.4875, -0.4825, -0.4775, -0.4725, -0.4675,\n",
       "       -0.4625, -0.4575, -0.4525, -0.4475, -0.4425, -0.4375, -0.4325,\n",
       "       -0.4275, -0.4225, -0.4175, -0.4125, -0.4075, -0.4025, -0.3975,\n",
       "       -0.3925, -0.3875, -0.3825, -0.3775, -0.3725, -0.3675, -0.3625,\n",
       "       -0.3575, -0.3525, -0.3475, -0.3425, -0.3375, -0.3325, -0.3275,\n",
       "       -0.3225, -0.3175, -0.3125, -0.3075, -0.3025, -0.2975, -0.2925,\n",
       "       -0.2875, -0.2825, -0.2775, -0.2725, -0.2675, -0.2625, -0.2575,\n",
       "       -0.2525, -0.2475, -0.2425, -0.2375, -0.2325, -0.2275, -0.2225,\n",
       "       -0.2175, -0.2125, -0.2075, -0.2025, -0.1975, -0.1925, -0.1875,\n",
       "       -0.1825, -0.1775, -0.1725, -0.1675, -0.1625, -0.1575, -0.1525,\n",
       "       -0.1475, -0.1425, -0.1375, -0.1325, -0.1275, -0.1225, -0.1175,\n",
       "       -0.1125, -0.1075, -0.1025, -0.0975, -0.0925, -0.0875, -0.0825,\n",
       "       -0.0775, -0.0725, -0.0675, -0.0625, -0.0575, -0.0525, -0.0475,\n",
       "       -0.0425, -0.0375, -0.0325, -0.0275, -0.0225, -0.0175, -0.0125,\n",
       "       -0.0075, -0.0025,  0.0025,  0.0075,  0.0125,  0.0175,  0.0225,\n",
       "        0.0275,  0.0325,  0.0375,  0.0425,  0.0475,  0.0525,  0.0575,\n",
       "        0.0625,  0.0675,  0.0725,  0.0775,  0.0825,  0.0875,  0.0925,\n",
       "        0.0975,  0.1025,  0.1075,  0.1125,  0.1175,  0.1225,  0.1275,\n",
       "        0.1325,  0.1375,  0.1425,  0.1475,  0.1525,  0.1575,  0.1625,\n",
       "        0.1675,  0.1725,  0.1775,  0.1825,  0.1875,  0.1925,  0.1975,\n",
       "        0.2025,  0.2075,  0.2125,  0.2175,  0.2225,  0.2275,  0.2325,\n",
       "        0.2375,  0.2425,  0.2475,  0.2525,  0.2575,  0.2625,  0.2675,\n",
       "        0.2725,  0.2775,  0.2825,  0.2875,  0.2925,  0.2975,  0.3025,\n",
       "        0.3075,  0.3125,  0.3175,  0.3225,  0.3275,  0.3325,  0.3375,\n",
       "        0.3425,  0.3475,  0.3525,  0.3575,  0.3625,  0.3675,  0.3725,\n",
       "        0.3775,  0.3825,  0.3875,  0.3925,  0.3975,  0.4025,  0.4075,\n",
       "        0.4125,  0.4175,  0.4225,  0.4275,  0.4325,  0.4375,  0.4425,\n",
       "        0.4475,  0.4525,  0.4575,  0.4625,  0.4675,  0.4725,  0.4775,\n",
       "        0.4825,  0.4875,  0.4925,  0.4975])"
      ]
     },
     "execution_count": 27,
     "metadata": {},
     "output_type": "execute_result"
    }
   ],
   "source": [
    "np.linspace(-0.4975, 0.4975, 200)"
   ]
  },
  {
   "cell_type": "code",
   "execution_count": 28,
   "metadata": {},
   "outputs": [
    {
     "data": {
      "text/plain": [
       "array([3.60430797e-238, 2.15804846e-233, 1.15623351e-228, 5.54338405e-224,\n",
       "       2.37820584e-219, 9.12996205e-215, 3.13641528e-210, 9.64146896e-206,\n",
       "       2.65214895e-201, 6.52826346e-197, 1.43794572e-192, 2.83421224e-188,\n",
       "       4.99881774e-184, 7.88946029e-180, 1.11422358e-175, 1.40812903e-171,\n",
       "       1.59241997e-167, 1.61145372e-163, 1.45922787e-159, 1.18242459e-155,\n",
       "       8.57371116e-152, 5.56300308e-148, 3.22994265e-144, 1.67812914e-140,\n",
       "       7.80191120e-137, 3.24579947e-133, 1.20833520e-129, 4.02529972e-126,\n",
       "       1.19992494e-122, 3.20077386e-119, 7.64013375e-116, 1.63189416e-112,\n",
       "       3.11909121e-109, 5.33469037e-106, 8.16460951e-103, 1.11816702e-099,\n",
       "       1.37032314e-096, 1.50274180e-093, 1.47465625e-090, 1.29491805e-087,\n",
       "       1.01751034e-084, 7.15451889e-082, 4.50160201e-079, 2.53453805e-076,\n",
       "       1.27695499e-073, 5.75701585e-071, 2.32254596e-068, 8.38448255e-066,\n",
       "       2.70852764e-063, 7.82952357e-061, 2.02526780e-058, 4.68786004e-056,\n",
       "       9.70983553e-054, 1.79967535e-051, 2.98484319e-049, 4.42990007e-047,\n",
       "       5.88316998e-045, 6.99155730e-043, 7.43500909e-041, 7.07512543e-039,\n",
       "       6.02465026e-037, 4.59065437e-035, 3.13013024e-033, 1.90983249e-031,\n",
       "       1.04273321e-029, 5.09443694e-028, 2.22722572e-026, 8.71319300e-025,\n",
       "       3.05025039e-023, 9.55517636e-022, 2.67847120e-020, 6.71862360e-019,\n",
       "       1.50806027e-017, 3.02902003e-016, 5.44415709e-015, 8.75596887e-014,\n",
       "       1.26015169e-012, 1.62288036e-011, 1.87023094e-010, 1.92863049e-009,\n",
       "       1.77970441e-008, 1.46957509e-007, 1.08587728e-006, 7.17984003e-006,\n",
       "       4.24809135e-005, 2.24914774e-004, 1.06558274e-003, 4.51753399e-003,\n",
       "       1.71380237e-002, 5.81788463e-002, 1.76731730e-001, 4.80406651e-001,\n",
       "       1.16855337e+000, 2.54350823e+000, 4.95407757e+000, 8.63450638e+000,\n",
       "       1.34665790e+001, 1.87941250e+001, 2.34710218e+001, 2.62293144e+001,\n",
       "       2.62293144e+001, 2.34710218e+001, 1.87941250e+001, 1.34665790e+001,\n",
       "       8.63450638e+000, 4.95407757e+000, 2.54350823e+000, 1.16855337e+000,\n",
       "       4.80406651e-001, 1.76731730e-001, 5.81788463e-002, 1.71380237e-002,\n",
       "       4.51753399e-003, 1.06558274e-003, 2.24914774e-004, 4.24809135e-005,\n",
       "       7.17984003e-006, 1.08587728e-006, 1.46957509e-007, 1.77970441e-008,\n",
       "       1.92863049e-009, 1.87023094e-010, 1.62288036e-011, 1.26015169e-012,\n",
       "       8.75596887e-014, 5.44415709e-015, 3.02902003e-016, 1.50806027e-017,\n",
       "       6.71862360e-019, 2.67847120e-020, 9.55517636e-022, 3.05025039e-023,\n",
       "       8.71319300e-025, 2.22722572e-026, 5.09443694e-028, 1.04273321e-029,\n",
       "       1.90983249e-031, 3.13013024e-033, 4.59065437e-035, 6.02465026e-037,\n",
       "       7.07512543e-039, 7.43500909e-041, 6.99155730e-043, 5.88316998e-045,\n",
       "       4.42990007e-047, 2.98484319e-049, 1.79967535e-051, 9.70983553e-054,\n",
       "       4.68786004e-056, 2.02526780e-058, 7.82952357e-061, 2.70852764e-063,\n",
       "       8.38448255e-066, 2.32254596e-068, 5.75701585e-071, 1.27695499e-073,\n",
       "       2.53453805e-076, 4.50160201e-079, 7.15451889e-082, 1.01751034e-084,\n",
       "       1.29491805e-087, 1.47465625e-090, 1.50274180e-093, 1.37032314e-096,\n",
       "       1.11816702e-099, 8.16460951e-103, 5.33469037e-106, 3.11909121e-109,\n",
       "       1.63189416e-112, 7.64013375e-116, 3.20077386e-119, 1.19992494e-122,\n",
       "       4.02529972e-126, 1.20833520e-129, 3.24579947e-133, 7.80191120e-137,\n",
       "       1.67812914e-140, 3.22994265e-144, 5.56300308e-148, 8.57371116e-152,\n",
       "       1.18242459e-155, 1.45922787e-159, 1.61145372e-163, 1.59241997e-167,\n",
       "       1.40812903e-171, 1.11422358e-175, 7.88946029e-180, 4.99881774e-184,\n",
       "       2.83421224e-188, 1.43794572e-192, 6.52826346e-197, 2.65214895e-201,\n",
       "       9.64146896e-206, 3.13641528e-210, 9.12996205e-215, 2.37820584e-219,\n",
       "       5.54338405e-224, 1.15623351e-228, 2.15804846e-233, 3.60430797e-238])"
      ]
     },
     "execution_count": 28,
     "metadata": {},
     "output_type": "execute_result"
    }
   ],
   "source": [
    "scipy.stats.norm(scale=0.015).pdf(np.linspace(-0.4975, 0.4975, 200))"
   ]
  },
  {
   "cell_type": "code",
   "execution_count": null,
   "metadata": {},
   "outputs": [],
   "source": [
    "counter = Counter()\n",
    "\n",
    "for cnv in cnvs:\n",
    "    cnvcounter = Counter()\n",
    "    \n",
    "    for variant in cnv:\n",
    "        class_ = variant[9]\n",
    "        \n",
    "        cnvcounter[class_] += 1\n",
    "        \n",
    "    cnv.append(cnvcounter)"
   ]
  },
  {
   "cell_type": "code",
   "execution_count": null,
   "metadata": {},
   "outputs": [],
   "source": [
    "{'CN1': 1}"
   ]
  },
  {
   "cell_type": "code",
   "execution_count": 88,
   "metadata": {},
   "outputs": [],
   "source": [
    "counter = Counter()"
   ]
  },
  {
   "cell_type": "code",
   "execution_count": 89,
   "metadata": {},
   "outputs": [
    {
     "data": {
      "text/plain": [
       "0"
      ]
     },
     "execution_count": 89,
     "metadata": {},
     "output_type": "execute_result"
    }
   ],
   "source": [
    "counter['hej']"
   ]
  },
  {
   "cell_type": "code",
   "execution_count": 90,
   "metadata": {},
   "outputs": [
    {
     "data": {
      "text/plain": [
       "Counter()"
      ]
     },
     "execution_count": 90,
     "metadata": {},
     "output_type": "execute_result"
    }
   ],
   "source": [
    "counter"
   ]
  },
  {
   "cell_type": "code",
   "execution_count": null,
   "metadata": {},
   "outputs": [],
   "source": [
    "(cnv, class_)"
   ]
  },
  {
   "cell_type": "code",
   "execution_count": 87,
   "metadata": {},
   "outputs": [],
   "source": [
    "counter = Counter()\n",
    "\n",
    "dictionary[5] += dictionary.get(5, 0)"
   ]
  },
  {
   "cell_type": "code",
   "execution_count": 82,
   "metadata": {},
   "outputs": [],
   "source": [
    "class A:\n",
    "    pass"
   ]
  },
  {
   "cell_type": "code",
   "execution_count": null,
   "metadata": {},
   "outputs": [],
   "source": []
  },
  {
   "cell_type": "code",
   "execution_count": 84,
   "metadata": {},
   "outputs": [],
   "source": [
    "a = {'frequency': 0.9\n",
    "    'variants': [varinsj, fjklf, fdjsfk],\n",
    "    'numberof ': 1}"
   ]
  },
  {
   "cell_type": "code",
   "execution_count": 72,
   "metadata": {},
   "outputs": [],
   "source": [
    "from collections import Counter"
   ]
  },
  {
   "cell_type": "code",
   "execution_count": 74,
   "metadata": {},
   "outputs": [],
   "source": [
    "a = Counter()"
   ]
  },
  {
   "cell_type": "code",
   "execution_count": 75,
   "metadata": {},
   "outputs": [],
   "source": [
    "a[0] = 1"
   ]
  },
  {
   "cell_type": "code",
   "execution_count": 79,
   "metadata": {},
   "outputs": [],
   "source": [
    "a[5] += 1"
   ]
  },
  {
   "cell_type": "code",
   "execution_count": 80,
   "metadata": {},
   "outputs": [
    {
     "data": {
      "text/plain": [
       "Counter({0: 1, 5: 1})"
      ]
     },
     "execution_count": 80,
     "metadata": {},
     "output_type": "execute_result"
    }
   ],
   "source": [
    "a"
   ]
  },
  {
   "cell_type": "code",
   "execution_count": 81,
   "metadata": {},
   "outputs": [
    {
     "data": {
      "text/plain": [
       "Counter({0: 2, 5: 2})"
      ]
     },
     "execution_count": 81,
     "metadata": {},
     "output_type": "execute_result"
    }
   ],
   "source": [
    "a + a"
   ]
  },
  {
   "cell_type": "code",
   "execution_count": null,
   "metadata": {},
   "outputs": [],
   "source": []
  }
 ],
 "metadata": {
  "kernelspec": {
   "display_name": "Python 3",
   "language": "python",
   "name": "python3"
  },
  "language_info": {
   "codemirror_mode": {
    "name": "ipython",
    "version": 3
   },
   "file_extension": ".py",
   "mimetype": "text/x-python",
   "name": "python",
   "nbconvert_exporter": "python",
   "pygments_lexer": "ipython3",
   "version": "3.6.5"
  }
 },
 "nbformat": 4,
 "nbformat_minor": 2
}
