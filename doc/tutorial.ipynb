{
 "cells": [
  {
   "cell_type": "markdown",
   "metadata": {},
   "source": [
    "# Walkthough of Vamb from the Python interpreter\n",
    "\n",
    "The Vamb pipeline consist of a series of tasks each which have a dedicated module:\n",
    "\n",
    "1) Parse fasta file and get TNF of each sequence, as well as sequence length and names (module `parsecontigs`)\n",
    "\n",
    "2) Parse the BAM files and get abundance estimate for each sequence in the fasta file (module `parsebam`)\n",
    "\n",
    "3) Train a VAE with the abundance and TNF matrices, and encode it to a latent representation (module `encode`)\n",
    "\n",
    "4) Cluster the encoded inputs to metagenomic bins (module `cluster`)\n",
    "\n",
    "Additionally, for developing and testing Vamb, we use:\n",
    "\n",
    "5) Benchmark the resulting bins against a gold standard (module `benchmark`)\n",
    "\n",
    "In the following chapters of this walkthrough, we will go through each step in more detail from within the Python interpreter. We will show how to use Vamb by example, what each step does, some of the theory behind the actions, and the different parameters that can be set. With this knowledge, you should be able to extend or alter the behaviour of Vamb more easily.\n",
    "\n",
    "For the examples, we will assume the following relevant prerequisite files exists in the directory `/Users/jakobnissen/Downloads/example/`:\n",
    "\n",
    "* `contigs.fna.gz` - The filtered FASTA contigs which were mapped against, and\n",
    "* `bam/*.bam` - 9 BAM files from the mapping.\n",
    "\n",
    "## Table of contents:\n",
    "\n",
    "### 1. [Introduction to metagenomic binning and best practices](#introduction)\n",
    "\n",
    "### 2. [Importing Vamb and getting help](#importing)\n",
    "\n",
    "### 3. [Calculate the sequence tetranucleotide frequencies](#parsecontigs)\n",
    "\n",
    "### 4. [Calculate the abundance matrix](#parsebam)\n",
    "\n",
    "### 5. [Train the autoencoder and encode input data](#encode)\n",
    "\n",
    "### 6. [Binning the encoding](#cluster)\n",
    "\n",
    "### 7. [Postprocessing the bins](#postprocessing)\n",
    "\n",
    "### 8. [Summary of full workflow](#summary)\n",
    "\n",
    "### 9. [Running VAMB with low memory (RAM)](#memory)\n",
    "\n",
    "### 10. [Optional: Benchmarking your bins](#benchmark)"
   ]
  },
  {
   "cell_type": "markdown",
   "metadata": {},
   "source": [
    "<a id=\"introduction\"></a>\n",
    "## Introduction to metagenomic binning and best practices\n",
    "\n",
    "When we began working on the Vamb project, we had been doing reference-free metagenomics for years using MetaBAT2, and thought we had a pretty good idea of how metagenomic binning worked and what to watch out for. Turns out, there's more to it than we had thought about. During this project, our group have revised the way we use binners multiple times as we've learned the dos and don'ts. In this introduction I will cover some facts of binning that is useful for the end user.\n",
    "\n",
    "__1. Binning is a hard problem__\n",
    "\n",
    "Various binning papers (including ours), typically brag about how many high-quality genomes they've been able to reconstruct from data. However, examining the actual number of genomes reconstructed compared to the estimated diversity of the samples can be sobering: Only a very small fraction of the organisms are binned decently. In fact, only a small fraction of the *sequenced* organisms are binned decently!\n",
    "\n",
    "Information is lost at every step along the way: In the sequencing itself, during assembly, when estimating contig abundance, and during the binning. For now, this is just a fact to accept, but we hope it will improve in the future, especially with better long-read sequencing technologies.\n",
    "\n",
    "__2. There is a tradeoff in what contigs to discard__\n",
    "\n",
    "Typically, the inputs to the binners are sequence composition and/or sequence abundance. Both these metrics are noisy for smaller contigs, as the kmer composition is not stable for small contigs, and the estimated depth across a genome varies wildly. This causes small contigs to be hard to handle for binners, as the noise swamps the signal.\n",
    "\n",
    "Worse, the presence of hard-to-bin contigs may adversely affect the binning of easy-to-bin contigs depending on the clustering algorithm used. One solution is to discard small contigs, but here lies a tradeoff: When are you just throwing away good data? This is especially bitter when the large majority of metagenomic assemblies usually lies in short contigs. With current (2019) assembly and mapping technology, we are usign a threshold of around 2000 bp.\n",
    "\n",
    "__3. Garbage in, garbage out__\n",
    "\n",
    "Binners like MaxBin, MetaBAT2 and Vamb uses kmer frequencies and estimated depths to bin sequences. While the kmer frequency is easy to calculate (but sensitive to small contigs - see above), this is not the case for depth. Depths are estimated by mapping reads back to the contigs and counting where they map to. Here especially, it's worth thinking about exactly how you map:\n",
    "\n",
    "* In general, if reads are allowed to map to subjects with a nucleotide identity of X %, then it is not possible to distinguish genomes with a higher nucleotide identity than X % using co-abundance, and these genomes will be binned together. This means you want to tweak your alignment tool to only output alignments with the desired minimum query/subject identity - for example 97%.\n",
    "\n",
    "* The MAPQ field of a BAM/SAM file is the probability that the mapping position is correct. Typically, aligners outputs a low MAPQ score if a read can map to multiple sequences. However, because we expect to have multiple similar sequences in metagenomics (e.g. the same strain from different samples), filtering low MAPQ-alignments away using e.g. Samtools will give bad results.\n",
    "\n",
    "So when creating your BAM files, make sure to think of the above. Furthermore, there are some issues to think about when estimating depths:\n",
    "\n",
    "* If a read maps well to N references, the read needs to count 1/N towards the depth of each of those references. Not counting secondary alignments is misleading (see above), and having it count 1 towards each reference will cause the depth of conserved genomic regions to be overestimated, which can affect binning.\n",
    "\n",
    "* You need to consider how to count a properly mapped read pair versus a pair with each mate mapping to distinct references. Some aligners e.g. BWA MEM will assign reads seemingly independent of their mates, in which case each mate should count independently towards the depth.\n",
    "\n",
    "The BAM parsing module in Vamb takes care of these two latter points.\n",
    "\n",
    "__4. It's hard to figure out if a binner is doing well__\n",
    "\n",
    "What makes a good binner? This question quickly becomes subjective or context dependent:\n",
    "\n",
    "* What's the ideal precision/recall tradeoff? One researcher might prefer pure but fragmented genomes, whereas another might want complete genomes, and care less about the purity.\n",
    "\n",
    "* What's the ideal cutoff in bin quality where the binner should not output the bin? Is it better to only produce good bins, or produce all bins, including the dubious ones?\n",
    "\n",
    "* Which taxonomic level is the right level to bin at? If nearly identical genomes from different samples go in different bins, is that a failure of the binner, or successfully identitfying microdiversity? What about splitting up strains? Species? Since the concept of a bacterial species is arbitrary, should the binner ideally group along nucleotide identity levels, regardless of the taxonomic annotation?\n",
    "\n",
    "* Are plasmids, prophages etc. considered a necessary part of a bin? Should a binner strive to bin plasmids with their host? What if it comes at a cost of genomic recall or precision?\n",
    "\n",
    "* If a genome is split equally into three bins, with the genome being a minority in each bin does that mean the genome is present at a recall of 0%, because each bin by majority vote will be assigned to another genome, a recall of 33%, because that's the maximal recall in any particular bin, or at 100%, because the whole genome is present in the three bins?\n",
    "\n",
    "* Should contigs be allowed to be present in multiple bins? If so, any ambiguity in binning can be trivially resolved by producing multiple bins where there is ambiguity (in extrema: Outputting the powerset of input contigs) - but surely, this just pushes the problems to the next point in the pipeline. If not, then conserved genomic regions, where reads from multiple species can be assembled into a single contig, cannot be binned in the multiple bins where it is actually present.\n",
    "\n",
    "* What postprocessing can you assume people are doing after the binning? Given e.g. a bin deduplication postprocessing step, creating multiple similar bins does not matter so much. However, if no postprocessing is done, doing so will give misleading results. \n",
    "\n",
    "Unfortunately, all these choices have a significant impact on how you asses performance of a binner - and thus, *how you create a binner in the first place*. That means, given different definitions of binning quality, different binners might to worse or better.\n",
    "\n",
    "__5. In summary__\n",
    "\n",
    "Here's the workflow we are using now:\n",
    "\n",
    "* Assemble your bins one sample at a time using a dedicated metagenomic assembler. We recommend metaSPAdes.\n",
    "* Concatenate the contigs/scaffolds to a single FASTA file, making sure that your FASTA headers are all unique.\n",
    "* Remove contigs < 2000 bp from the FASTA file.\n",
    "* Map reads from each sample to the FASTA file. Make sure to set the minimum accepted mapping identity threshold to be similar to the identity threshold with which you want to bin. Do not sort the BAM files, or if they are already sorted, sort again by read name. Do not filter for poor MAPQ. Output all secondary alignments.\n",
    "* Run Vamb with default parameters, unless you really know what you are doing.\n",
    "* After binning, split your bins according to the sample they originated from. In this way, you can bin using co-abundance across samples, while still seeing microdiversity from sample to sample."
   ]
  },
  {
   "cell_type": "markdown",
   "metadata": {},
   "source": [
    "<a id=\"importing\"></a>\n",
    "## Importing Vamb and getting help\n",
    "\n",
    "First step is to get Vamb imported. If you installed with `pip`, it should be directly importable. Else, you might have to add the path of Vamb to `sys.path`"
   ]
  },
  {
   "cell_type": "code",
   "execution_count": 1,
   "metadata": {},
   "outputs": [],
   "source": [
    "import vamb"
   ]
  },
  {
   "cell_type": "markdown",
   "metadata": {},
   "source": [
    "When using Vamb, you'll almost certianly need help (we wish it was so easy you didn't, but making user friendly software is *hard!*).\n",
    "\n",
    "Luckily, there's the built-in `help` function in Python."
   ]
  },
  {
   "cell_type": "code",
   "execution_count": 2,
   "metadata": {},
   "outputs": [
    {
     "name": "stdout",
     "output_type": "stream",
     "text": [
      "Help on package vamb:\n",
      "\n",
      "NAME\n",
      "    vamb\n",
      "\n",
      "DESCRIPTION\n",
      "    Vamb - Variational Autoencoders for Metagenomic Binning\n",
      "    Documentation: https://github.com/RasmussenLab/vamb/\n",
      "    \n",
      "    Vamb contains the following modules:\n",
      "    vamb.vambtools\n",
      "    vamb.parsecontigs\n",
      "    vamb.parsebam\n",
      "    vamb.encode\n",
      "    vamb.cluster\n",
      "    vamb.benchmark\n",
      "    \n",
      "    General workflow:\n",
      "    1) Filter contigs by size using vamb.vambtools.filtercontigs\n",
      "    2) Map reads to contigs to obtain BAM file\n",
      "    3) Calculate TNF of contigs using vamb.parsecontigs\n",
      "    4) Create RPKM table from BAM files using vamb.parsebam\n",
      "    5) Train autoencoder using vamb.encode\n",
      "    6) Cluster latent representation using vamb.cluster\n",
      "    7) Split bins using vamb.vambtools\n",
      "\n",
      "PACKAGE CONTENTS\n",
      "    __main__\n",
      "    _vambtools\n",
      "    benchmark\n",
      "    cluster\n",
      "    encode\n",
      "    parsebam\n",
      "    parsecontigs\n",
      "    vambtools\n",
      "\n",
      "DATA\n",
      "    __authors__ = ('Jakob Nybo Nissen', 'Simon Rasmussen')\n",
      "    __licence__ = 'MIT'\n",
      "\n",
      "VERSION\n",
      "    (3, 0, 1)\n",
      "\n",
      "FILE\n",
      "    /Users/jakobnissen/Documents/scripts/vamb/vamb/__init__.py\n",
      "\n",
      "\n"
     ]
    }
   ],
   "source": [
    "help(vamb)"
   ]
  },
  {
   "cell_type": "markdown",
   "metadata": {},
   "source": [
    "You can also get help for each of the modules, for example the `cluster` module:\n",
    "\n",
    "`>>> help(vamb.cluster)`\n",
    "\n",
    "    Help on module vamb.cluster in vamb:\n",
    "\n",
    "    NAME\n",
    "        vamb.cluster - Iterative medoid clustering.\n",
    "\n",
    "    DESCRIPTION\n",
    "        Usage:\n",
    "        >>> clusters = list(ClusterIterator(matrix))\n",
    "\n",
    "        Implements one core function, cluster, along with the helper\n",
    "        functions write_clusters and read_clusters.\n",
    "\n",
    "    CLASSES\n",
    "    \n",
    "    [ lines elided ]\n",
    "        \n",
    "---\n",
    "And for functions:\n",
    "\n",
    "`>>> help(vamb.cluster.cluster)`\n",
    "\n",
    "    Help on function cluster in module vamb.cluster:\n",
    "\n",
    "    cluster(matrix, maxsteps=25, windowsize=200, minsuccesses=20, destroy=False, normalized=False, cuda=False)\n",
    "        Legacy constructor for ClusterGenerator object. Deprecated - just use\n",
    "        ClusterGenerator instead.\n",
    "\n",
    "        Inputs:\n",
    "            matrix: A (obs x features) Numpy matrix of data type numpy.float32\n",
    "            maxsteps: Stop searching for optimal medoid after N futile attempts [25]\n",
    "            windowsize: Length of window to count successes [200]\n",
    "            minsuccesses: Minimum acceptable number of successes [15]\n",
    "            destroy: Save memory by destroying matrix while clustering [False]\n",
    "            normalized: Matrix is already preprocessed [False]\n",
    "\n",
    "        Output: Same as ClusterGenerator(args*, kwargs**)\n",
    "\n",
    "---"
   ]
  },
  {
   "cell_type": "markdown",
   "metadata": {},
   "source": [
    "<a id=\"parsecontigs\"></a>\n",
    "## Calculate the sequence tetranucleotide frequencies\n",
    "\n",
    "If you forget what to do at each step, remember that `help(vamb)` said:\n",
    "\n",
    "    General workflow:\n",
    "    1) Filter contigs by size using vamb.vambtools.filtercontigs\n",
    "    2) Map reads to contigs to obtain BAM file\n",
    "    3) Calculate TNF of contigs using vamb.parsecontigs\n",
    "    \n",
    "    [ lines elided ]\n",
    "\n",
    "Okay, we already have filtered contigs. I could have used the `vamb.vambtools.filtercontigs` to filter the FASTA file, but here, they were already filtered. We have also already mapped reads to them and gotten BAM files, so we begin with the third step, using the `vamb.parsecontigs` module. How do you use that?"
   ]
  },
  {
   "cell_type": "code",
   "execution_count": 48,
   "metadata": {},
   "outputs": [
    {
     "name": "stdout",
     "output_type": "stream",
     "text": [
      "Help on module vamb.parsecontigs in vamb:\n",
      "\n",
      "NAME\n",
      "    vamb.parsecontigs - Calculate tetranucleotide frequency from a FASTA file.\n",
      "\n",
      "DESCRIPTION\n",
      "    Usage:\n",
      "    >>> with open('/path/to/contigs.fna', 'rb') as filehandle\n",
      "    ...     tnfs, contignames, lengths = read_contigs(filehandle)\n",
      "\n",
      "FUNCTIONS\n",
      "    read_contigs(filehandle, minlength=100)\n",
      "        Parses a FASTA file open in binary reading mode.\n",
      "        \n",
      "        Input:\n",
      "            filehandle: Filehandle open in binary mode of a FASTA file\n",
      "            minlength: Ignore any references shorter than N bases [100]\n",
      "        \n",
      "        Outputs:\n",
      "            tnfs: An (n_FASTA_entries x 103) matrix of tetranucleotide freq.\n",
      "            contignames: A list of contig headers\n",
      "            lengths: A Numpy array of contig lengths\n",
      "\n",
      "FILE\n",
      "    /Users/jakobnissen/Documents/scripts/vamb/vamb/parsecontigs.py\n",
      "\n",
      "\n"
     ]
    }
   ],
   "source": [
    "help(vamb.parsecontigs)"
   ]
  },
  {
   "cell_type": "markdown",
   "metadata": {},
   "source": [
    "---\n",
    "I use `vamb.parsecontigs.read_contigs` with the inputs and outputs as written:\n",
    "\n",
    "---"
   ]
  },
  {
   "cell_type": "code",
   "execution_count": 4,
   "metadata": {},
   "outputs": [],
   "source": [
    "path = '/Users/jakobnissen/Downloads/example/contigs.fna.gz'\n",
    "\n",
    "# Use Reader to open plain or zipped files. File must be opened in binary mode\n",
    "with vamb.vambtools.Reader(path, 'rb') as filehandle:\n",
    "    tnfs, contignames, lengths = vamb.parsecontigs.read_contigs(filehandle)"
   ]
  },
  {
   "cell_type": "markdown",
   "metadata": {},
   "source": [
    "---\n",
    "Let's have a look at the resulting data\n",
    "\n",
    "---"
   ]
  },
  {
   "cell_type": "code",
   "execution_count": 5,
   "metadata": {},
   "outputs": [
    {
     "name": "stdout",
     "output_type": "stream",
     "text": [
      "Type of tnfs: <class 'numpy.ndarray'> of dtype float32\n",
      "Shape of tnfs: (57762, 103)\n",
      "\n",
      "Type of contignames: <class 'list'>\n",
      "Length of contignames: 57762\n",
      "\n",
      "First 5 elements of contignames:\n",
      "S5C2\n",
      "S5C11\n",
      "S5C30\n",
      "S5C47\n",
      "S5C53\n",
      "\n",
      "Type of lengths: <class 'numpy.ndarray'> of dtype int64\n",
      "Length of lengths: 57762\n",
      "\n",
      "First 5 elements of lengths:\n",
      "131131\n",
      "58724\n",
      "121618\n",
      "2179\n",
      "2698\n"
     ]
    }
   ],
   "source": [
    "print('Type of tnfs:', type(tnfs), 'of dtype', tnfs.dtype)\n",
    "print('Shape of tnfs:', tnfs.shape, end='\\n\\n')\n",
    "\n",
    "print('Type of contignames:', type(contignames))\n",
    "print('Length of contignames:', len(contignames), end='\\n\\n')\n",
    "\n",
    "print('First 5 elements of contignames:')\n",
    "for i in range(5):\n",
    "    print(contignames[i])\n",
    "\n",
    "print('\\nType of lengths:', type(lengths), 'of dtype', lengths.dtype)\n",
    "print('Length of lengths:', len(lengths), end='\\n\\n')\n",
    "\n",
    "print('First 5 elements of lengths:')\n",
    "for i in range(5):\n",
    "    print(lengths[i])"
   ]
  },
  {
   "cell_type": "markdown",
   "metadata": {},
   "source": [
    "---\n",
    "__For a zipped FASTA file__, simply use `with open vamb.vambtools.Reader('/path/to/contigs.fna' ,'rb')`. The `Reader` automatically and transparently reads plaintext, gzipped, bzip2 and .xz files, and return an opened file object. You can also pass an ordinary file handle (or indeed any iterable of lines as `bytes` objects) to `vamb.parsecontigs.read_contigs`.\n",
    "\n",
    "Note that reading zipped files will slow down the FASTA parsing quite a bit. But the time spent parsing the FASTA file will likely still be insignificant compared to the other steps of Vamb.\n",
    "\n",
    "__The rationale for parsing the contigs__ is that it turns out that related organisms tend to share a similar kmer-distribution across most of their genome. The reason for that is not understood, even though it's believed that common functional motifs, GC-content and presence/absence of endonucleases explains some of the observed similary.\n",
    "\n",
    "The `tnfs` is the tetranucleotide frequency - it's the frequency of the canonical kmer of each 4mer in the contig. We use 4-mers because there are 256 4-mers, which is an appropriate number of features to cluster - not so few that there's no signal and not so many it becomes unwieldy and the estimates of the frequencies become uncertain. We could also have used 3-mers. In tests we have made, 3-mers are *almost*, but not quite as good as 4-mers for separating different species. You could probably switch tetranucleotide frequency to trinucleotide frequency in Vamb without any significant drop of accuracy. However, there are 1024 5-mers, that would be too many features to handle comfortably, and it could easily cause memory issues.\n",
    "\n",
    "We do not work with tetranucleotide frequencies (TNF) directly. TNFs are highly correlated, for example, we would expect the frequency of `AAGA` to be very similar to `AGAA`. Some of these correlations are due to e.g. GC content which is a valid signal. But some of these correlations are due to interdependencies between the TNFs which does NOT constitute a signal and is pure redundancy in the data. Removing this saves RAM, computing resources, and may also make the VAE converge better. There are three such dependencies:\n",
    "\n",
    "* Being frequencies, they must sum to 1.\n",
    "* The frequency of a kmer must be the same as the reverse complement (RC), because the RC is simply present on the other strand. We only observe one strand, which one is arbitrary. So we average between kmers and RC. For example, if we see 31 AAGA and 24 TCTT, we will note (31+24)/2 = 27.5 of each instead.\n",
    "* Every time we observe a kmer with the bases ABCD, we *must* also observe the immediately following kmer, BCDE. Hence, for every 3-mer XYZ, it is true that (AXYZ + CXYZ + GXYZ + TXYZ) = (XYZA + XYZC + XYZG + XYZT). This is not always true for finite contigs because the 4mer at the end has no \"next\" 4mer. But that fact is a tiny measurement error in the first place, so we do not care about that.\n",
    "\n",
    "Based on these constraints, we can create a set of linear equations, and then find the kernel matrix L which projects any matrix of 4mer frequencies T to a matrix P with fewer features (103 in this case):\n",
    "\n",
    "$$\\textbf{P} = \\textbf{TL}$$\n",
    "\n",
    "We enforce constraint 2 by tallying the mean of each kmer and its frequency. This reverse complement averaging can be done using a matrix multiply on the raw tetranucleotide frequencies F with a reverse-complementing matrix R:\n",
    "\n",
    "$$\\textbf{T} = \\textbf{FR}$$\n",
    "\n",
    "And since matrix multiplication is associative, we can create a single kernel K which does both the reverse complementation averaging and projects down to 103 features in one matrix multiply:\n",
    "\n",
    "$$\\textbf{P} = \\textbf{TL} = (\\textbf{FR})\\textbf{L} = \\textbf{F}(\\textbf{RL}) = \\textbf{FK}$$\n",
    "\n",
    "The kernel K is calculated in `src/create_kernel.py`, but comes pre-calculated with Vamb. See the method section of [Kislyuk et al. 2009](https://www.ncbi.nlm.nih.gov/pmc/articles/PMC2765972/) for more details.\n",
    "\n",
    "__The argument `minlength`__ sets the filter removing any contigs shorter than this. We don't know exactly what the sweet spot is, but it's probably somewhere around ~2000 bp.\n",
    "\n",
    "The problem with filtering contigs using `minlength` is that the smaller contigs which are thrown away will still recruit reads during the mapping that creates the BAM files, thus removing information from those reads. For that reason, we recommend filtering the contigs *before* mapping.\n",
    "\n",
    "__The memory consumption of Vamb can be an issue__, so at this point, you should probably consider whether you have enough RAM. This is a small dataset, so there's no problem. With hundreds of samples and millions of contigs however, this becomes a problem, even though Vamb is fairly memory-friendly. If you think memory might be an issue, see the [Running VAMB with low memory (RAM)](#memory) section.\n",
    "\n",
    "<a id=\"parsebam\"></a>\n",
    "## Calculate the abundance matrix\n",
    "\n",
    "Again, we can use the help function to see what we need to do\n",
    "    \n",
    "`>>> help(vamb.parsebam)`\n",
    "\n",
    "    Help on module vamb.parsebam in vamb:\n",
    "\n",
    "    NAME\n",
    "        vamb.parsebam - Estimate RPKM (depths) from BAM files of reads mapped to contigs.\n",
    "\n",
    "    DESCRIPTION\n",
    "        Usage:\n",
    "        >>> bampaths = ['/path/to/bam1.bam', '/path/to/bam2.bam', '/path/to/bam3.bam']\n",
    "        >>> rpkms = read_bamfiles(bampaths)\n",
    "\n",
    "    FUNCTIONS\n",
    "    \n",
    "    [ lines elided ]"
   ]
  },
  {
   "cell_type": "code",
   "execution_count": 6,
   "metadata": {},
   "outputs": [
    {
     "data": {
      "text/plain": [
       "['/Users/jakobnissen/Downloads/example/bam/0.subset.bam',\n",
       " '/Users/jakobnissen/Downloads/example/bam/2.subset.bam',\n",
       " '/Users/jakobnissen/Downloads/example/bam/21.subset.bam',\n",
       " '/Users/jakobnissen/Downloads/example/bam/22.subset.bam',\n",
       " '/Users/jakobnissen/Downloads/example/bam/24.subset.bam',\n",
       " '/Users/jakobnissen/Downloads/example/bam/25.subset.bam',\n",
       " '/Users/jakobnissen/Downloads/example/bam/3.subset.bam',\n",
       " '/Users/jakobnissen/Downloads/example/bam/5.subset.bam',\n",
       " '/Users/jakobnissen/Downloads/example/bam/6.subset.bam']"
      ]
     },
     "execution_count": 6,
     "metadata": {},
     "output_type": "execute_result"
    }
   ],
   "source": [
    "# Let's do it:\n",
    "\n",
    "bamfiles = !ls /Users/jakobnissen/Downloads/example/bam\n",
    "bamfiles = ['/Users/jakobnissen/Downloads/example/bam/' + p for p in bamfiles]\n",
    "bamfiles"
   ]
  },
  {
   "cell_type": "code",
   "execution_count": 7,
   "metadata": {},
   "outputs": [
    {
     "name": "stdout",
     "output_type": "stream",
     "text": [
      "Type of rpkms: <class 'numpy.ndarray'> of dtype float32\n",
      "Shape of rpkms (57762, 9)\n"
     ]
    }
   ],
   "source": [
    "# Yep, those file paths look right. This step takes some time for large files.\n",
    "rpkms = vamb.parsebam.read_bamfiles(bamfiles) \n",
    "print('Type of rpkms:', type(rpkms), 'of dtype', rpkms.dtype)\n",
    "print('Shape of rpkms', rpkms.shape)"
   ]
  },
  {
   "cell_type": "markdown",
   "metadata": {},
   "source": [
    "---\n",
    "The idea here is that two contigs from the same genome will always be physically present together, and so they should have a similar abundance in all samples. Some contigs represent repeats like duplicated segments - these contigs should have a fixed ratio of abundance to other contigs. Thus, even when considering repeated contigs, there should be a tight cosine distance correlation between abundances of contigs from the same genome.\n",
    "\n",
    "The `vamb.parsebam` module takes a rather crude approach to estimating abundance, namely by simply counting the number of mapped reads to each contig, normalized by total number of reads and the contig's length. This measure is in trancriptomics often called RPKM, *reads per kilobase per million mapped reads*. Other metagenomic binners like Metabat and Canopy uses an average of per-nucleotide depth of coverage instead. We do not believe there is any theoretical or practical advantage of using depth over RPKM. We will use the terms *abundance*,  *depth* and *RPKM* interchangably.\n",
    "\n",
    "---\n",
    "`>>> help(vamb.parsebam.read_bamfiles)`\n",
    "\n",
    "    Help on function read_bamfiles in module vamb.parsebam:\n",
    "\n",
    "    read_bamfiles(paths, dumpdirectory=None, refhash=None, minscore=None, minlength=None, minid=None, subprocesses=8, logfile=None)\n",
    "        Spawns processes to parse BAM files and get contig rpkms.\n",
    "\n",
    "        Input:\n",
    "            path: List or tuple of paths to BAM files\n",
    "            dumpdirectory: [None] Dir to create and dump per-sample depths NPZ files to\n",
    "            refhash: [None]: Check all BAM references md5-hash to this (None = no check)\n",
    "            minscore [None]: Minimum alignment score (AS field) to consider\n",
    "            minlength [None]: Ignore any references shorter than N bases\n",
    "            minid [None]: Discard any reads with nucleotide identity less than this\n",
    "            subprocesses [8]: Number of subprocesses to spawn\n",
    "            logfile: [None] File to print progress to\n",
    "\n",
    "        Output: A (n_contigs x n_samples) Numpy array with RPKM\n",
    "\n",
    "We can see (in the default value for the `subprocesses` argument to `read_bamfiles`) that the default number of parallel BAM-reading processes it will spawn is 8. This is because Python detected 8 threads on my laptop. In general, Vamb's default here is to use the number of availble threads, or 8 threads if more than 8 is detected, as the BAM-reading function will almost certainly become IO bound at more than 8 threads.\n",
    "\n",
    "As with the `vamb.parsecontigs.read_contigs` function, I don't care about the `minlength` argument, since our fasta file is already filtered. Again, I will re-iterate that filtering the FASTA file _before_ mapping leads to the best results.\n",
    "\n",
    "The function ignores all alignments with alignment score less than `minscore` (as determined by the auxiliary `AS:i` field in the BAM file, which Vamb assumes is present if `minscore` is not `None`). Ideally, the user should construct the BAM files so that they only contain alignments that the user believes are true (i.e. set reasonable alignment and filtering criteria).\n",
    "\n",
    "Similarly to `minscore`, this function has a `minid` option. The parser will ignore any alignments where the nucleotide identity fraction (i.e. in [0;1)) is smaller than `minid` across the entire alignment.\n",
    "\n",
    "The argument `refhash` is used to verify that the headers of the FASTA file given to VAMB are identical and in the same order as that of the BAM files. If this is `None`, no check is done. Else, this should be a length 16 `bytes` object, representing the md5 hash of the reference sequences in the FASTA file as calculated by `vamb.parsebam._hash_refnames`. If the hash of the references in any BAM file does not match his hash, Vamb raises an exception. Setting the flag `--norefcheck` when using Vamb on command-line sets `refhash` to `None` .\n",
    "\n",
    "Lastly, the argument `logfile` should be `None` or the filehandle of an opened, writeable file. If the latter, it will print status updates to the logfile.\n",
    "\n",
    "---\n",
    "Now, I tend to be a bit ~~paranoid~~<sup>careful</sup>, so if I loaded in 500 GB of BAM files, I'd want to save the work I have now in case something goes wrong - and we're about to fire up the VAE so lots of things can go wrong.\n",
    "\n",
    "What importants objects do I have in memory right now?\n",
    "\n",
    "* `tnfs`: A Numpy array of tnfs\n",
    "* `contignames`: A list of contignames\n",
    "* `lengths`: A Numpy array of contig lengths\n",
    "* `rpkms`: A Numpy array of rpkms\n",
    "\n",
    "I'm going to use `vamb.vambtools.write_npz` to save the Numpy arrays (that function is just a thin convenience wrapper for `numpy.savez_compressed`)."
   ]
  },
  {
   "cell_type": "code",
   "execution_count": 8,
   "metadata": {},
   "outputs": [],
   "source": [
    "import numpy as np\n",
    "\n",
    "with open('/Users/jakobnissen/Downloads/example/contignames.npz', 'wb') as file:\n",
    "    vamb.vambtools.write_npz(file, np.array(contignames))\n",
    "\n",
    "with open('/Users/jakobnissen/Downloads/example/lengths.npz', 'wb') as file:\n",
    "    vamb.vambtools.write_npz(file, lengths)\n",
    "\n",
    "with open('/Users/jakobnissen/Downloads/example/tnfs.npz', 'wb') as file:\n",
    "    vamb.vambtools.write_npz(file, tnfs)\n",
    "    \n",
    "with open('/Users/jakobnissen/Downloads/example/rpkms.npz', 'wb') as file:\n",
    "    vamb.vambtools.write_npz(file, rpkms)"
   ]
  },
  {
   "cell_type": "markdown",
   "metadata": {},
   "source": [
    "<a id=\"encode\"></a>\n",
    "## Train the autoencoder and encode input data\n",
    "\n",
    "Again, you can use `help` to see how to use the module\n",
    "\n",
    "`>>> help(vamb.encode)`\n",
    "\n",
    "    Help on module vamb.encode in vamb:\n",
    "\n",
    "    NAME\n",
    "        vamb.encode - Encode a depths matrix and a tnf matrix to latent representation.\n",
    "\n",
    "    DESCRIPTION\n",
    "        Creates a variational autoencoder in PyTorch and tries to represent the depths\n",
    "        and tnf in the latent space under gaussian noise.\n",
    "\n",
    "        Usage:\n",
    "        >>> vae = VAE(nsamples=6)\n",
    "        >>> dataloader, mask = make_dataloader(depths, tnf)\n",
    "        >>> vae.trainmodel(dataloader)\n",
    "        >>> latent = vae.encode(dataloader) # Encode to latent representation\n",
    "        >>> latent.shape\n",
    "        (183882, 32)\n",
    "        \n",
    "    [ lines elided ]\n",
    "    \n",
    "---\n",
    "Aha, so we need to create the VAE, create the dataloader (and the mask), then use the `trainmodel` method first, then the `VAE.encode` method. You can call the `help` functions on those, but I'm not showing that here.\n",
    "\n",
    "Training networks always take some time. If you have a GPU and CUDA installed, you can pass `cuda=True` to the VAE to train on your GPU for increased speed. With a beefy GPU, this can make quite a difference. I run this on my laptop (with a puny Intel GPU), so I'll just use my CPU. And I'll run just 10 epochs rather than the more suitable 500:"
   ]
  },
  {
   "cell_type": "code",
   "execution_count": 9,
   "metadata": {},
   "outputs": [
    {
     "name": "stdout",
     "output_type": "stream",
     "text": [
      "\tNetwork properties:\n",
      "\tCUDA: False\n",
      "\tAlpha: 0.15\n",
      "\tBeta: 200\n",
      "\tDropout: 0.2\n",
      "\tN hidden: 512, 512\n",
      "\tN latent: 32\n",
      "\n",
      "\tTraining properties:\n",
      "\tN epochs: 10\n",
      "\tStarting batch size: 256\n",
      "\tBatchsteps: None\n",
      "\tLearning rate: 0.001\n",
      "\tN sequences: 24395\n",
      "\tN samples: 9\n",
      "\n",
      "\tEpoch: 1\tLoss: 0.507493\tCE: 1.0706676\tSSE: 55.385077\tKLD: 80.9332\tBatchsize: 256\n",
      "\tEpoch: 2\tLoss: 0.251523\tCE: 0.4548252\tSSE: 38.496042\tKLD: 124.8668\tBatchsize: 256\n",
      "\tEpoch: 3\tLoss: 0.223408\tCE: 0.4064800\tSSE: 33.100297\tKLD: 114.9226\tBatchsize: 256\n",
      "\tEpoch: 4\tLoss: 0.208888\tCE: 0.3823074\tSSE: 30.490180\tKLD: 106.1688\tBatchsize: 256\n",
      "\tEpoch: 5\tLoss: 0.201011\tCE: 0.3697399\tSSE: 28.965108\tKLD: 101.0825\tBatchsize: 256\n",
      "\tEpoch: 6\tLoss: 0.195216\tCE: 0.3593385\tSSE: 28.127550\tKLD: 97.5539\tBatchsize: 256\n",
      "\tEpoch: 7\tLoss: 0.191864\tCE: 0.3538129\tSSE: 27.525870\tKLD: 95.3914\tBatchsize: 256\n",
      "\tEpoch: 8\tLoss: 0.188392\tCE: 0.3483603\tSSE: 26.816342\tKLD: 93.2792\tBatchsize: 256\n",
      "\tEpoch: 9\tLoss: 0.184815\tCE: 0.3411324\tSSE: 26.516094\tKLD: 91.0830\tBatchsize: 256\n",
      "\tEpoch: 10\tLoss: 0.182677\tCE: 0.3379037\tSSE: 26.099772\tKLD: 89.2728\tBatchsize: 256\n"
     ]
    }
   ],
   "source": [
    "import sys\n",
    "\n",
    "vae = vamb.encode.VAE(nsamples=rpkms.shape[1])\n",
    "dataloader, mask = vamb.encode.make_dataloader(rpkms, tnfs)\n",
    "\n",
    "with open('/tmp/model.pt', 'wb') as modelfile:\n",
    "    vae.trainmodel(dataloader, nepochs=10, modelfile=modelfile, batchsteps=None, logfile=sys.stdout)"
   ]
  },
  {
   "cell_type": "markdown",
   "metadata": {},
   "source": [
    "First we create the VAE, then we create the dataloader and the mask. The dataloader normalizes the TNF such that the mean and standard deviation for each tetranucleotide across all contigs (i.e. a column) is 0 and 1, respectively, and normalizes the rpkm such that each contig (i.e. a row) sums to 1. Furthermore, the dataloader shuffles the contigs at each epoch.\n",
    "\n",
    "The dataloader also discards all contigs where either the TNF vector or the depths vector is all zeros - we call these contigs *zero contigs*. A zero contig implies that it is either shorter than 4 basepairs, or that no reads mapped to it from any sample. The `mask` it returns is a boolean vector with `True` if a contig was kept, and `False` if it was discarded. We began with 50658 contigs, and the log above states that it was trained with 57762 contigs, implying that 57762 - 24395 = 33367 contigs were discarded. Normally, almost no contigs are discarded, but this test data contains very few reads.\n",
    "\n",
    "Here, we kept the default value `False` to the `destroy` keyword of `make_dataloader`. If this is set to `True`, the input arrays are normalized and masked in-place, modifying them. This prevents another in-memory copy of the data, which can be critical for large array sizes.\n",
    "\n",
    "I passed a few keywords to the `trainmodel` function: \n",
    "* `nepochs` should be obvious - the number of epochs trained\n",
    "* `modelfile` will be discussed in a bit\n",
    "* `logfile` is the file to which the progress text will be printed. Here, I passed `sys.stdout` in order to print the progress to this notebook\n",
    "* `batchsteps` should be `None`, or an iterable of integers. If `None`, it does nothing. Else, the batch size will double when it reaches an epoch in `batchsteps`. Increasing batch size helps find better minima; see the paper \"Don't Decay the Learning Rate, Increase the Batch Size\".\n",
    "\n",
    "The VAE encodes the high-dimensional (n_samples + 103 features) input data in a lower dimensional space (nlatent features). When training, it learns an encoding scheme, with which it encodes the input data to a series of normal distributions, and a decoding scheme, in which it uses one value sampled from each normal distribution to reconstruct the input data.\n",
    "\n",
    "The theory here is that if the VAE learns to reconstruct the input, the distributions must be a more efficient encoding of the input data, since the same information is contained in fewer neurons. If the input data for the contigs indeed do fall into bins, an efficient encoding would be to simply encode the bin they belong to, then use the \"bin identity\" to reconstruct the data. We force it to encode to *distributions* rather than single values because this makes it more robust - it will not as easily overfit to interpret slightly different values as being very distinct if there is an intrinsic noise in each encoding.\n",
    "\n",
    "### The loss function\n",
    "\n",
    "The loss of the VAE consists of three major terms:\n",
    "\n",
    "* Cross entropy (CE) measures the dissimilarity of the reconstructed abundances to observed abundances. This penalizes a failure to reconstruct the abundances accurately.\n",
    "* Sum of squared error (SSE) measures the dissimilary of reconstructed versus observed TNF. This penalizes failure to reconstruct TNF accurately.\n",
    "* Kullback-Leibler divergence (KLD) measures the dissimilarity between the encoded distributions and the standard gaussian distribution N(0, 1). This penalizes learning.\n",
    "\n",
    "All three terms are important. CE and SSE is necessary, because we believe the VAE can only learn to effectively reconstruct the input if it learns to encode the signal from the input into the latent layers. In other words, these terms incentivize the network to learn something. KLD is necessary because we care that the encoding is *efficient*, viz. it is contained in as little information as possible. The entire point of encoding is to encode a majority of the signal while shedding the noise, and this is only achieved if we place contrains on how much the network is allowed to learn. Without KLD, the network can theoretically learn an infinitely complex encoding, and the network will learn to encode both noise and signal.\n",
    "\n",
    "In normal autoencoders, people use binary cross-entropy rather than crossentropy. We believe crossentropy is more correct here, since we normalize by letting the depths sum to one across a contig. In this way, you can view the depths distribution across samples as a probability distribution that a random mapping read will come from each sample.\n",
    "\n",
    "In `encode.py`, the loss function is written as:\n",
    "\n",
    "$L = \\frac{(1 - \\alpha)}{ln(S)} \\cdot CE + \\frac{\\alpha}{103} \\cdot SSE + \\frac{1}{N_{L}\\beta} \\cdot KLD$\n",
    "\n",
    "where $N_{L}$ is number of latent neurons and S is number of samples. It is hardly obvious where the scaling factors come from, so let me try to explain it.\n",
    "\n",
    "As the learning rate is fixed and optimized for a specific gradient, this means the total reconstruction loss $\\frac{(1 - \\alpha)}{ln(S)} \\cdot CE + \\frac{\\alpha}{103} \\cdot SSE$ should sum to a constant, lest the training become ustable. To make things simpler, we want it to sum to 1. It would probably be more precise to say that L should be 1, but since $\\frac{1}{N_{L}\\beta} \\cdot KLD <<  \\frac{(1 - \\alpha)}{ln(S)} \\cdot CE + \\frac{\\alpha}{103} \\cdot SSE$ for any values of $\\alpha$ and $\\beta$ that seem to work, setting the reconstruction loss to 1 is basically the same.\n",
    "\n",
    "When optimizing the network, we want a single variable to control the ratio between $SSE$ and $CE$ - we call this $\\alpha$. This scales CE and SSE so that $\\alpha = \\frac{SSE}{SSE + CE}$ \n",
    "\n",
    "But here comes a problem. While we want to scale SSE and CE so that the two constrains above (namely $CE+SSE=1$ and  $\\alpha = \\frac{SSE}{SSE + CE}$) are true, we can't know *beforehand* what CE, KLD or SSE is. And, in any rate, these values changes across the training run (that's the point of training!).\n",
    "\n",
    "What we *can* reason about is the values of CE and SSE in a totally *naive*, network which had *no knowledge* of the input dataset. This represents the state of the network before *any* learning is done. What would such a network predict? Well, since we normalize the reconstructed depths across $S$ samples to be between 0 and 1 and sum to 1, the outputs would be close to $[S^{-1}, S^{-1} ... S^{-1}]^{T}$, which, by the definition of cross entropy, would yield a CE of $ln(S)$. We normalize both TNF inputs and outputs to follow an approximately normal distribution with mean around 0, which means the expected SSE for TNF is 1 per input TNF neuron, for a total of $SSE = 103$.\n",
    "\n",
    "Importantly, if we actually check the CE and SSE values for untrained networks, they are quite close to these expected values of $ln(S)$ and 103. Since neither CE nor SSE is reduced by more than an order of magnitude from their starting values during training on realistic datasets (usually much less), these expected values work as stand-ins for what we can expect CE and SSE to be across training.\n",
    "\n",
    "So the purpose of the scaling factors in front of the CE and SEE terms is to scale CE from the expected value of $ln(S)$ to the target value of (1-$\\alpha$) and SSE from 103 to $\\alpha$. Hence the scaling factors $\\frac{(1 - \\alpha)}{ln(S)}$ and $\\frac{\\alpha}{103}$.\n",
    "\n",
    "For KLD, we want the user to be able to control the ratio $\\frac{C+S}{K}$, where C, S and K are each of the terms from CE, SSE and KLD in the loss, respectively. Since KLD is defined as a sum of individual KLD for each of latent neurons, its value is proportional to $N_{L}$. So we let the user set a ratio\n",
    "\n",
    "$\\beta = \\frac{KLD}{N_{L}K} \\cdot \\frac{(1 - \\alpha)}{ln(S)} \\cdot CE + \\frac{\\alpha}{103} \\cdot SSE$,\n",
    "\n",
    "Where again, K is the weighed KLD in the loss. In other words, we allow the user to weigh the KLD-related loss relative to the reconstruction loss. However, as we just scaled the CE and SSE terms to make sure they sum to one, this simplifies to:\n",
    "\n",
    "$\\beta = \\frac{KLD}{N_{L}K} \\Leftrightarrow K = \\frac{1}{N_{L}\\beta} \\cdot KLD$.\n",
    "\n",
    "Hence the scaling factor $\\frac{1}{N_{L}\\beta}$ in front of KLD.\n",
    "\n",
    "If you look at the outputs from the 10 epochs, you can see the KL-divergence rises the first epoch as it learns the dataset and the latent layer drifts away from its prior. At epoch 2, the penalty associated with KL-divergence outweighs the CE and SSE losses. At this point, the KL will stall, and then fall. This point depends on $\\beta$ and the complexity of the dataset.\n",
    "\n",
    "Okay, so now we have the trained `vae` and gotten the `dataloader`. Let's feed the dataloader to the VAE in order to get the latent representation.\n",
    "\n",
    "---"
   ]
  },
  {
   "cell_type": "code",
   "execution_count": 10,
   "metadata": {},
   "outputs": [
    {
     "name": "stdout",
     "output_type": "stream",
     "text": [
      "(24395, 32)\n"
     ]
    }
   ],
   "source": [
    "# No need to pass gpu=True to the encode function to encode on GPU\n",
    "# If you trained the VAE on GPU, it already resides there\n",
    "latent = vae.encode(dataloader)\n",
    "\n",
    "print(latent.shape)"
   ]
  },
  {
   "cell_type": "markdown",
   "metadata": {},
   "source": [
    "---\n",
    "That's 24395 contigs each represented by the mean of their latent distribution.\n",
    "\n",
    "Sometimes, you'll want to reuse a VAE you have already trained. For this, I've added the `VAE.save` method of the VAE class, as well as a `VAE.load` method. You will have noticed in the training example above that I defined a `modelfile`, a file the VAE will create and save its parameters to. We can always use that file to recreate the VAE and have a pretrained model. But remember - a trained VAE only works on the dataset it's been trained on, and not necessarily on any other!\n",
    "\n",
    "I want to **show** that we get the exact same network back that we trained, so here I encode the first contig, delete the VAE, reload the VAE and encode the first contig again. The two encodings should be identical.\n",
    "\n",
    "---"
   ]
  },
  {
   "cell_type": "code",
   "execution_count": 11,
   "metadata": {},
   "outputs": [
    {
     "name": "stdout",
     "output_type": "stream",
     "text": [
      "tensor([-10.1629,   6.6441,  -7.9587,  10.9046,   6.9817,  -2.1498,  -0.8452,\n",
      "         -8.6588,  17.6399,   3.3330,   8.3227,  -1.2341,  -5.0678,  -0.2922,\n",
      "          1.4167,  10.3114,   6.6064,   6.4869,   5.6234,   0.5074,  10.7002,\n",
      "          2.8435,   1.6936,   0.5806,  -6.0573,  -7.0818,  10.3524,   4.6124,\n",
      "         -7.7825,  -2.2355,  -8.7436,   2.7398], grad_fn=<SelectBackward>)\n",
      "tensor([-10.1629,   6.6441,  -7.9587,  10.9046,   6.9817,  -2.1498,  -0.8452,\n",
      "         -8.6588,  17.6399,   3.3330,   8.3227,  -1.2341,  -5.0678,  -0.2922,\n",
      "          1.4167,  10.3114,   6.6064,   6.4869,   5.6234,   0.5074,  10.7002,\n",
      "          2.8435,   1.6936,   0.5806,  -6.0573,  -7.0818,  10.3524,   4.6124,\n",
      "         -7.7825,  -2.2355,  -8.7436,   2.7398], grad_fn=<SelectBackward>)\n"
     ]
    }
   ],
   "source": [
    "import torch\n",
    "\n",
    "# Manually create the first mini-batch without shuffling\n",
    "rpkms_in = torch.Tensor(rpkms[:128]).reshape((128, -1))\n",
    "tnfs_in = torch.Tensor(tnfs[:128]).reshape((128, -1))\n",
    "\n",
    "# Put VAE in testing mode - strictly not necessary here, since it goes in test\n",
    "# mode when encoding latent, as we did above\n",
    "vae.eval()\n",
    "\n",
    "# Calling the VAE as a function encodes and decodes the arguments,\n",
    "# returning the outputs and the two distribution layers\n",
    "depths_out, tnf_out, mu, logsigma = vae(rpkms_in, tnfs_in)\n",
    "\n",
    "# The mu layer is the encoding itself\n",
    "print(mu[0])\n",
    "\n",
    "# Now, delete the VAE\n",
    "del vae\n",
    "\n",
    "# And reload it from the model file we created:\n",
    "# Here we can specify whether to put it on GPU and whether it should start\n",
    "# in training or evaluation (encoding) mode. By default, it's not on GPU and \n",
    "# in testing mode\n",
    "vae = vamb.encode.VAE.load('/tmp/model.pt')\n",
    "depths_out, tnf_out, mu, logsigma = vae(rpkms_in, tnfs_in)\n",
    "print(mu[0])"
   ]
  },
  {
   "cell_type": "markdown",
   "metadata": {},
   "source": [
    "---\n",
    "We get the same values back, meaning the saved network is the same as the loaded network!\n",
    "\n",
    "<a id=\"cluster\"></a>\n",
    "## Binning the encoding\n",
    "\n",
    "__The role of clustering in Vamb__\n",
    "\n",
    "Fundamentally, the process of binning is just clustering sequences based on some of their properties, with the expectation that sequences from the same organism cluster together.\n",
    "\n",
    "In the previous step, we encoded each sequence to a vector of real numbers. The idea behind encoding is that, because the neural network attempts to strike a balance between having low reconstruction error (i.e. high fidelity) and having low Kullback-Leibler divergence (i.e. containing as little information as possible), then the network will preferentially encode signal over noise. In this way, the VAE act like a denoiser. This has been explored in other papers by people before us. Furthermore, because the latent space has fewer dimensions than the input space, clustering is quicker and more memory efficient.\n",
    "\n",
    "With the latent representation conveniently represented by an (n_contigs x n_features) matrix, you could use any clustering algorithm to cluster them (such as the ones in the Python package `sklearn.cluster`). In practice though, you have perhaps a million contigs and prior constrains on the diameter, shape and size of the clusters, so non-custom clustering algorithms will probably be slow and inaccurate.\n",
    "\n",
    "The module `vamb.cluster` implements a iterative medoid clustering algorithm. The algorithm is complicated and not very elegant, so I will go through it here in painstaking detail.\n",
    "\n",
    "### Overview of Vamb clustering algorithm\n",
    "\n",
    "In very broad strokes, the algorithm works like this:\n",
    "\n",
    "    A) Begin with an arbitrary sequence P, and move from P to a center of a nearby cluster, called the medoid M.\n",
    "    B) Find the distance d from M where the density of other points drops according to certain criteria.\n",
    "    C) If no d can be found, restart from A). If it has restarted too often the last X tries, relax criteria in B). If criteria has been maximally relaxed, choose an arbitrary value of d.\n",
    "    D) Output all points within d of M, and remove them from dataset.\n",
    "    E) Repeat from A) until no points remain in the dataset.\n",
    "\n",
    "The idea behind this algorithm is that we expect the clusters to be roughly spherical, have a high density near the middle, and be separed form other clusters by an area with lower density. Hence, we should be able to move from P to M in step A) by moving towards higher density. And we should be able to find the radius of the cluster from M by considering a distance from M where the density of points drops.\n",
    "\n",
    "This algorithm consists of several steps, discussed below. Most of the steps unfortunately have several parameters which have been chosen by a combination of guessing, gut feeling and testing.\n",
    "\n",
    "As a distance measure, we are using cosine distance. This is particularly useful for a couple of reasons:\n",
    "\n",
    "First, it is extremely quick to calculate. Given two points represented by vectors $\\textbf{a}$ and $\\textbf{b}$, we define cosine distance as:\n",
    "\n",
    "\\begin{equation*}\n",
    "\\frac{1}{2} - \\frac{\\textbf{a} \\cdot \\textbf{b}}{2|\\textbf{a}| |\\textbf{b}|}\n",
    "\\end{equation*}\n",
    "\n",
    "This is slightly different from the ordinary definition, because it is squeezed between 0 and 1, rather than -1 and 1.\n",
    "\n",
    "Now if we preprocess all points by calculating:\n",
    "\n",
    "\\begin{equation*}\n",
    "\\bar{\\textbf{a}} = \\textbf{a} \\circ \\frac{1}{\\sqrt{2} \\textbf{|a|}}\n",
    "\\end{equation*}\n",
    "\n",
    "Where $\\circ$ is elementwise multiplication, then the cosine distance is simply:\n",
    "\n",
    "\\begin{equation*}\n",
    "\\frac{1}{2} - \\bar{\\textbf{a}} \\cdot \\bar{\\textbf{b}}\n",
    "\\end{equation*}\n",
    "\n",
    "And since the points are represented by a matrix $\\bar{\\textbf{M}}$, with each row vector being a point, finding the distance to from the i'th point of $\\bar{\\textbf{M}}$ to all other points is then a series of vector products as in the equation above, which can be expressed in a single matrix multiply and subtraction:\n",
    "\n",
    "\\begin{equation*}\n",
    "\\frac{1}{2} - \\bar{\\textbf{M}} \\times \\bar{\\textbf{M}}_{i}^{T}\n",
    "\\end{equation*}\n",
    "\n",
    "Second, with all the $N_{latent}$ dimensions being used by the neural network the surface of an $N_{latent}$-dimensional hyperphere is so large that it's not likely that multiple clusters are far in euclidian space but close in cosine space.\n",
    "\n",
    "And third, it works better than the other alternatives we tried in practice, although I don't understand why for instance Euclidian distance is not better.\n",
    "\n",
    "### Finding the medoid\n",
    "\n",
    "First, we shuffle the points pseudorandomly to avoid any bias introduced by the order of the sequences. Then, we use the following algorithm to find the medoid. The idea is that, as you move nearer to a cluster's centre, the mean distance to close points will decrease.\n",
    "\n",
    "Currently, the default parameters DC and MAX_STEPS are 0.05 and 25, respectively.\n",
    "\n",
    "Function `wander_medoid`\n",
    "    1. Pick next point S as the seed. If last point has been reached, begin from top again.\n",
    "    2. Let C be the set of contigs within a small distance DC of S\n",
    "    3. Calculate mean distance of points in C to S, ignoring the distance of S to itself. Let that be mean_S.\n",
    "    4. Sample a point P in C. While you have not yet futilely sampled MAX_STEPS times or exhaused all points in C:\n",
    "        Calculate mean distance of P to all points within DC of P, let that be mean_P\n",
    "        If mean_P < mean_S, set S to P and go to point 2.\n",
    "    7. Return S as medoid."
   ]
  },
  {
   "cell_type": "markdown",
   "metadata": {},
   "source": [
    "### Finding the right distance\n",
    "\n",
    "Having found a medoid above, we need to find out if it's the center of a suitable cluster, and if so, what the radius of that cluster is.\n",
    "\n",
    "In order to see how this is done, it is useful to look at these graphs first:"
   ]
  },
  {
   "cell_type": "code",
   "execution_count": 13,
   "metadata": {},
   "outputs": [
    {
     "data": {
      "text/plain": [
       "Text(0.10000000000000002, 97.86, 'Clustering threshold')"
      ]
     },
     "execution_count": 13,
     "metadata": {},
     "output_type": "execute_result"
    },
    {
     "data": {
      "image/png": "[encoded data removed]",
      "text/plain": [
       "<Figure size 432x288 with 1 Axes>"
      ]
     },
     "metadata": {
      "needs_background": "light"
     },
     "output_type": "display_data"
    },
    {
     "data": {
      "image/png": "[encoded data removed]",
      "text/plain": [
       "<Figure size 432x288 with 1 Axes>"
      ]
     },
     "metadata": {
      "needs_background": "light"
     },
     "output_type": "display_data"
    }
   ],
   "source": [
    "import numpy as np\n",
    "import matplotlib.pyplot as plt\n",
    "%matplotlib inline\n",
    "\n",
    "def plot(xs, ys, title, xlabel, ylabel):\n",
    "    figure = plt.figure()\n",
    "    plt.plot(xs, ys, color='k')\n",
    "    plt.tick_params(left=False, labelleft=False, labelsize=13)\n",
    "    plt.ylim(0, plt.ylim()[1])\n",
    "    plt.xlim(0, xs.max())\n",
    "    plt.title(title, fontsize=16)\n",
    "    plt.xlabel(xlabel, fontsize=14)\n",
    "    plt.ylabel(ylabel, fontsize=14)\n",
    "    return figure\n",
    "\n",
    "histogram = vamb.vambtools.read_npz('histogram.npz')\n",
    "xs = np.linspace(0, 1, 400)\n",
    "fig_a = plot(xs[1:], histogram, \"Figure A: Histogram of all distances\", 'distance', 'density')\n",
    "hist2 = histogram[0:120:2] + histogram[1:120:2]\n",
    "fig_b = plot(xs[0:110:2], hist2[:55], \"Figure B: Zoom-in on low X values\", 'distance', 'density')\n",
    "densities = vamb.cluster._calc_densities(hist2, cuda=False)\n",
    "plt.plot(xs[0:110:2], densities[:55])\n",
    "threshold, success = vamb.cluster._find_threshold(densities, peak_valley_ratio=0.2, cuda=False)\n",
    "plt.vlines(threshold, 0, plt.ylim()[1], linestyles='dotted')\n",
    "plt.text(threshold, plt.ylim()[1]/5, \"Clustering threshold\", rotation=90, fontsize=14)"
   ]
  },
  {
   "cell_type": "markdown",
   "metadata": {},
   "source": [
    "When picking an arbitrary contig as medoid (here contig 'S4C11236' in the CAMI2 toy human Airways short read dataset), and calculating the distances to all other contigs in the dataset, it follows a distribution as seen in Figure A. Unsurprisingly, the latent representation of most other contigs are mostly uncorrelated with the chosen contig, so the large majority of points are at a distance of around 0.5. No contigs have a larger distance than 0.8. \n",
    "\n",
    "But look at the lower left corner of Figure A: A small group of contigs appear to have a smaller distance to the medoid than most others - those of the cluster it belongs to. If the cluster is well-separated, this small initial peak should be mostly isolated from the main peak around 0.5 by a band of empty space, with a low density. Figure B confirms this is true.\n",
    "\n",
    "Vamb groups the observed distances from the medoid M to a histogram similar to that in Figure B, and then iterates over the y-values of the histogram attempting to find first an initial peak, then a valley. At the bottom of the valley, the cutoff distance threshold is set, and all points closer to M than this point is clustered out. This threshold is depicted in Figure B by the dotted line. Vamb smoothes the histogram in order to mitigate the influence of random variation on the minima/maxima of the function. The smoothed hisotgram is visible in Figure B as a blue line.\n",
    "\n",
    "The algorithm for detecting the threshold is as follows:\n",
    "\n",
    "Parameter DEFAULT is 0.09 by default. RATIO is provided to the function and will be described later.\n",
    "\n",
    "    Function `find_threshold` inputs = (medoid, RATIO), outputs = (threshold, was_successful)\n",
    "    1. Calculate the distances from M to all other points. Group to histogram with bin size of 0.005 and smooth using a simple Gaussian kernel.\n",
    "    2. If there are no other points within 0.03, return (0.025, None) end function\n",
    "    3. Set success to FALSE. For X = 0 to X = 0.3:\n",
    "        If the peak has not yet been declared over:\n",
    "            If density is increasing:\n",
    "                Set peak to X, peak density to density\n",
    "                If X > 0.1, there is no initial peak near X=0, end loop\n",
    "            Else if density < 0.6 * peak density\n",
    "                Declare initial peak to be over\n",
    "                Set minimum to density\n",
    "        Else\n",
    "            If density > 1.5 * minimum, we are entering another peak, end loop\n",
    "            If density < minimum\n",
    "                Set minimum to density\n",
    "                if density < RATIO * peak density, we have successfully found a potential threshold\n",
    "                    set success to TRUE\n",
    "                    set threshold to X\n",
    "                    \n",
    "    4. If threshold is set to above 0.14 + 0.1 * RATIO: Initial peak is not close enough to X=0, set success to FALSE\n",
    "    5. If success is FALSE and RATIO > 0.55: We do not accept failure. Set success to None and threshold to DEFAULT\n",
    "    6. Return (threshold, success)\n",
    "    \n",
    "This function is annoyingly convoluted, but I was not able to find a simpler function that did not return nonsensical thresholds for a variety of different data points.\n",
    "\n",
    "You will notice that the parameter RATIO controls how strict the criteria for accepting a threshold as successful is. If RATIO is low, say, 0.1, the initial peak must lie close to zero, and must be separated from the bulk of the other points with a deep valley. In constrast, a larger RATIO makes the criteria more relaxed. With a RATIO > 0.55, the function does not even accept failure, and will set the threshold to DEFAULT if no valley is found."
   ]
  },
  {
   "cell_type": "markdown",
   "metadata": {},
   "source": [
    "### Clustering\n",
    "\n",
    "With the medoid search function and the threshold detection above, you can see how to begin clustering points. However, one more problem remains: Not all medoids separate the points to a neat small peak of close contigs and a larger one of far contigs as seen in Figure B. In fact, for the majority of medoids M sampled, the density is continuously increasing with distance, or the initial peak is too far away to consider M to be part of the peak, or there is clearly an initial double-peak rather than one. To make things worse, if a medoid M cannot successfully return a threshold, this does not mean M must be discarded - it is quite likely that M is contained in a cluster for which a threshold could be successfully found using another point as medoid.\n",
    "\n",
    "To handle this problem, Vamb takes the approach of beginning with strict requirements for when a threshold is accepted, by setting the RATIO parameter low. If the threshold detection for a medoid returns failure, that medoid is simply skipped in the hope of finding another medoid with better results. Vamb then keeps count of how many of the recent attempts that yielded success - if too few did, RATIO is increased to relax the requirements for clusters.\n",
    "\n",
    "The algorithm is as follows:\n",
    "\n",
    "Parameters WINDOWSIZE and MINSUCCESSES is 200 and 15 by default, respectively. RATIO is initialized as 0.1\n",
    "\n",
    "Function `cluster`\n",
    "    1. Pick a medoid M using function `wander_medoid`\n",
    "    2. Set threshold to None. While threshold is None:\n",
    "           Set (success, threshold) to result of function `find_threshold(M, RATIO)`\n",
    "           If fewer than MINSUCCESSES of last WINDOWSIZE attempts at finding threshold succeded:\n",
    "               Increment RATIO by 0.1\n",
    "               Discard the memory of the success or failure of previous attempts\n",
    "    3. Output all points within threshold of M as a cluster. Remove these points from dataset\n",
    "    4. If no more points remain, end function. Else, go to point 1.\n",
    "    \n",
    "Let's have a look at the actual Python function that does the clustering in Vamb:"
   ]
  },
  {
   "cell_type": "code",
   "execution_count": 21,
   "metadata": {},
   "outputs": [
    {
     "name": "stdout",
     "output_type": "stream",
     "text": [
      "Help on function cluster in module vamb.cluster:\n",
      "\n",
      "cluster(matrix, labels=None, maxsteps=25, windowsize=200, minsuccesses=20, destroy=False, normalized=False, cuda=False)\n",
      "    Create iterable of (medoid, {point1, point2 ...}) tuples for each cluster.\n",
      "    \n",
      "    Inputs:\n",
      "        matrix: A (obs x features) Numpy matrix of data type numpy.float32\n",
      "        labels: None or list of labels of points [None = range(len(matrix))]\n",
      "        maxsteps: Stop searching for optimal medoid after N futile attempts [25]\n",
      "        windowsize: Length of window to count successes [200]\n",
      "        minsuccesses: Minimum acceptable number of successes [15]\n",
      "        destroy: Save memory by destroying matrix while clustering [False]\n",
      "        normalized: Matrix is already preprocessed [False]\n",
      "        cuda: Accelerate clustering with GPU [False]\n",
      "    \n",
      "    Output: Generator of (medoid, {point1, point2 ...}) tuples for each cluster.\n",
      "\n"
     ]
    }
   ],
   "source": [
    "# From Vamb 3.0, clustering is done by the ClusterGenerator object.\n",
    "# We can use the old interface to construct a cluster iterator.\n",
    "help(vamb.cluster.cluster)"
   ]
  },
  {
   "cell_type": "markdown",
   "metadata": {},
   "source": [
    "---\n",
    "An explanation of a few of the parameters is in order:\n",
    "    \n",
    "`matrix` is the latent encoding.\n",
    "\n",
    "`labels` is a list (or array) of labels for each point. If `None`, the labels will be the row position of the point in the matrix, e.g. the first point will be `0`.\n",
    "\n",
    "`maxsteps`, `default`, `windowsize`, and `minsuccesses` correspond to the parameters described in the algorithms above. It's not realistic to expect users to set these - in other words, they should be OK as they are.\n",
    "\n",
    "The function iteratively deletes the input matrix. To avoid this, the function works on a copy of the matrix. To skip copying the matrix and save memory, set `destroy` to `True`.\n",
    "\n",
    "For clustering, the matrix needs to be preprocessed (as described above in the clustering algorithm). If this has already been done, set `normalized` to `True`. If `destroy` is `True`, the matrix will be normalized in-place.\n",
    "\n",
    "If `cuda` is set to `True`, the clustering will be run on GPU for a significant speedup.\n",
    "\n",
    "---\n",
    "Depending on the size of the latent encoding, clustering can take quite some time. The heavy lifting here is done in PyTorch, so if you're not using a GPU, it might be worth making sure the BLAS library PyTorch is using is fast. The difference between a fast and a slow PyTorch implementation can be quite remarkable. If you use PyTorch v. >= 1.1 You can check it with `torch.__config__.show()` and notice if it says something about using Intel Math Kernel (MKL) library, or OpenBLAS. If it does, you're golden.\n",
    "\n",
    "The generator will compute the clusters on-the-fly, meaning it will only compute the next cluster *once you ask for it*. Having the clustering return a generator gives a lot of flexibility:\n",
    "\n",
    "You can manually iterate over the clusters:\n",
    "    \n",
    "    clusters = dict()\n",
    "    for n, (medoid, cluster) in enumerate(vamb.cluster.cluster(latent)):\n",
    "        clusters[medoid] = cluster\n",
    "        \n",
    "        if n + 1 == 1000: # Stop after 1000 clusters\n",
    "            break\n",
    "\n",
    "You can just put it directly in a dictionary:\n",
    "\n",
    "    clusters = dict(vamb.cluster.cluster(latent))\n",
    "    \n",
    "Or you can use the `vamb.cluster.writeclusters` function to write the clusters to disk without storing them in memory:\n",
    "\n",
    "    cluster_iterator = vamb.cluster.cluster(latent)\n",
    "    with open('clusters.tsv', 'w') as clusterfile:\n",
    "        vamb.cluster.writeclusters(clusterfile, cluster_iterator)\n",
    "        \n",
    "The `vamb.cluster.cluster` function is a thin wrapper which instantiates a `vamb.cluster.ClusterGenerator` object. This object yields `Cluster` objects. These objects contain various data, e.g. the `ClusterGenerator` contains the full state of the clusterer, and its internal parameters, whereas a `Cluster` contains all information about the cluster. If you just want the clusters and don't need access to these internal details, the simpler `vamb.cluster.cluster`, generator, yielding tuples, will be fine.\n",
    "\n",
    "In this example, we will load it into a dictionary immediately:"
   ]
  },
  {
   "cell_type": "code",
   "execution_count": 37,
   "metadata": {},
   "outputs": [
    {
     "name": "stdout",
     "output_type": "stream",
     "text": [
      "First key: S3C87523 (of type: <class 'str'> )\n",
      "Type of values: <class 'set'>\n",
      "First element of value: S6C1433 of type: <class 'str'>\n"
     ]
    }
   ],
   "source": [
    "# I cheat here and load in a latent representation that has trained for 500\n",
    "# epochs instead of the shorter training we did above.\n",
    "#latent = vamb.vambtools.read_npz('/Users/jakobnissen/Downloads/example/out/latent.npz')\n",
    "\n",
    "# Notice we mask the contignames, since the dataloader could have filtered some contigs away\n",
    "filtered_labels = [n for (n,m) in zip(contignames, mask) if m]\n",
    "cluster_iterator = vamb.cluster.cluster(latent, labels=filtered_labels)\n",
    "clusters = dict(cluster_iterator)\n",
    "\n",
    "medoid, contigs = next(iter(clusters.items()))\n",
    "print('First key:', medoid, '(of type:', type(medoid), ')')\n",
    "print('Type of values:', type(contigs))\n",
    "print('First element of value:', next(iter(contigs)), 'of type:', type(next(iter(contigs))))"
   ]
  },
  {
   "cell_type": "markdown",
   "metadata": {},
   "source": [
    "<a id=\"postprocessing\"></a>\n",
    "## Postprocessing the clusters\n",
    "\n",
    "We haven't written any dedicated postprocessing modules because how to postprocess really depends on what you're looking for in your data.\n",
    "\n",
    "One of the greatest weaknesses of Vamb - probably of metagenomic binners in general - is that the bins tend to be highly fragmented. Unlike other binners, Vamb does not hide this fact, and will bin *all* input contigs. This means you'll have lots of tiny bins, some of which are legitimate (viruses, plasmids), but most are parts of larger genomes that didn't get binned properly - about 2/3 of the bins here, for example, are 1-contig bins. \n",
    "\n",
    "We're in the process of developing a tool for annotating, cleaning and merging bins based on phylogenetic analysis of the genes in the bins. That would be extremely helpful, but for now, we'll have to use more crude approaches.\n",
    "\n",
    "First, we will split up all bins by their sample of origin using `vamb.vambtools.binsplit`. This will cause some bins to be fragmented, but for bins of high per-sample coverage, it will deduplicate them effectively. Second, we'll throw away all bins with less than 200,000 basepairs because we're only interested in genome-sized bins.\n",
    "\n",
    "---"
   ]
  },
  {
   "cell_type": "code",
   "execution_count": 38,
   "metadata": {},
   "outputs": [
    {
     "name": "stdout",
     "output_type": "stream",
     "text": [
      "Number of bins before splitting and filtering: 512\n",
      "Number of bins after splitting and filtering: 192\n"
     ]
    }
   ],
   "source": [
    "def filterclusters(clusters, lengthof):\n",
    "    filtered_bins = dict()\n",
    "    for medoid, contigs in clusters.items():\n",
    "        binsize = sum(lengthof[contig] for contig in contigs)\n",
    "    \n",
    "        if binsize >= 200000:\n",
    "            filtered_bins[medoid] = contigs\n",
    "    \n",
    "    return filtered_bins\n",
    "        \n",
    "lengthof = dict(zip(contignames, lengths))\n",
    "filtered_bins = filterclusters(vamb.vambtools.binsplit(clusters, 'C'), lengthof)\n",
    "print('Number of bins before splitting and filtering:', len(clusters))\n",
    "print('Number of bins after splitting and filtering:', len(filtered_bins))"
   ]
  },
  {
   "cell_type": "markdown",
   "metadata": {},
   "source": [
    "---\n",
    "Even as we split some bins in 9, we're still left with fewer than half of the starting number of bins! Now, let's save the clusters to disk. For this we will use two writer functions:\n",
    "\n",
    "1) `vamb.cluster.writeclusters`, that writes which clusters contains which contigs to a simple tab-separated file, and\n",
    "\n",
    "2) `vamb.vambtools.writebins`, that writes FASTA files corresponding to each of the bins to a directory. This might be useful for some types of analysis you want to do down the road.\n",
    "\n",
    "We will need to load all the contigs belonging to any bin into memory to use `vamb.vambtools.writebins`. If the contigs in your bins don't fit in memory, sorry, you gotta find another way to make those FASTA bins.\n",
    "\n",
    "The cluster name when printing either way will be the dictionary key of the bins.\n",
    "\n",
    "---"
   ]
  },
  {
   "cell_type": "code",
   "execution_count": 40,
   "metadata": {},
   "outputs": [],
   "source": [
    "# This writes a .tsv file with the clusters and corresponding sequences\n",
    "with open('/Users/jakobnissen/Downloads/example/clusters.tsv', 'w') as file:\n",
    "    vamb.vambtools.write_clusters(file, filtered_bins)\n",
    "\n",
    "# Only keep contigs in any filtered bin in memory\n",
    "keptcontigs = set.union(*filtered_bins.values())\n",
    "\n",
    "with open('/Users/jakobnissen/Downloads/example/contigs.fna', 'rb') as file:\n",
    "    fastadict = vamb.vambtools.loadfasta(file, keep=keptcontigs)\n",
    "    \n",
    "bindir = '/Users/jakobnissen/Downloads/example/bins'\n",
    "vamb.vambtools.write_bins(bindir, filtered_bins, fastadict, maxbins=500)"
   ]
  },
  {
   "cell_type": "markdown",
   "metadata": {},
   "source": [
    "<a id=\"summary\"></a>\n",
    "## Summary of full workflow\n",
    "\n",
    "This is the full default workflow from beginning to end. Calling Vamb from command line does essentially this, except with some input validation, logging, and saving intermediate results to files."
   ]
  },
  {
   "cell_type": "code",
   "execution_count": null,
   "metadata": {},
   "outputs": [],
   "source": [
    "import sys\n",
    "import os\n",
    "sys.path.append('/Users/jakni/Documents/scripts/vamb')\n",
    "import vamb\n",
    "\n",
    "# Calculate TNF\n",
    "with open('/Users/jakni/Downloads/example/contigs.fna', 'rb') as contigfile:\n",
    "    tnfs, contignames, contiglengths = vamb.parsecontigs.read_contigs(contigfile)\n",
    "\n",
    "# Calculate RPKM\n",
    "bamdir = '/Users/jakni/Downloads/example/bamfiles/'\n",
    "bampaths = [bamdir + filename for filename in os.listdir(bamdir) if filename.endswith('.bam')]\n",
    "rpkms = vamb.parsebam.read_bamfiles(bampaths)\n",
    "\n",
    "# Encode\n",
    "vae = vamb.encode.VAE(nsamples=rpkms.shape[1])\n",
    "dataloader, mask = vamb.encode.make_dataloader(rpkms, tnfs)\n",
    "vae.trainmodel(dataloader)\n",
    "latent = vae.encode(dataloader)\n",
    "\n",
    "# Cluster and output clusters\n",
    "filtered_labels = [n for (n,m) in zip(contignames, mask) if m]\n",
    "cluster_iterator = vamb.cluster.cluster(latent, labels=filtered_labels)\n",
    "with open('/Users/jakni/Downloads/example/bins.tsv', 'w') as binfile:\n",
    "    vamb.cluster.write_clusters(binfile, cluster_iterator)"
   ]
  },
  {
   "cell_type": "markdown",
   "metadata": {},
   "source": [
    "<a id=\"memory\"></a>\n",
    "## Running VAMB with low memory (RAM)\n",
    "\n",
    "In the VAMB software, a series of tradeoffs can be taken to decrease RAM consumption, usually to the detriment of some other property like speed or convenience (though not accuracy). With all of those tradeoffs taken, VAMB is relatively memory efficient. By default, several of these tradeoffs are are not taken when running from a Python interpreter, however they are all enabled when running VAMB from command line.\n",
    "\n",
    "The memory consumption of the encoding step is usually the bottleneck. With all memory-saving options enabled, this uses approximately $4 * N_{contigs}*(103+N_{latent}+N_{samples})$ bytes, plus some hundreds of megabytes of overhead. As a rule of thumb, if you don't have at least two times that amount of memory, you might want to enable some or all of these memory optimizations.\n",
    "\n",
    "Here's a short list of all the available memory saving options:\n",
    "\n",
    "- Pass a path to the `dumpdirectory` in the `vamb.parsecontigs.read_bamfiles` function. Temporary files will be written to files in this directory to avoid keeping them in memory. This takes a little bit of disk space, but saves lots of RAM\n",
    "- In the `encode.make_dataloader` function, set `destroy` to True. This will in-place modify your RPKM and TNF array, deleting unusable rows and normalizing them. This prevents the creation of a copy of the data.\n",
    "- Similarly, set `destroy=True` when using the `cluster.cluster` function. Again, the input (latent) datasets are modified in-place, saving a copy of the data. This function will completely consume the input array.\n",
    "- When clustering, instead of generating clusters in memory, instantiate the cluster iterator and pass it directly to `cluster.write_clusters`. This way, each cluster will be written to disk after creation and not accumulate in memory. This obviously requires disk space, and you will have to reload the clusters if you are planning on using them."
   ]
  },
  {
   "cell_type": "markdown",
   "metadata": {},
   "source": [
    "<a id=\"benchmark\"></a>\n",
    "## Optional: Benchmarking your bins\n",
    "\n",
    "If you want to tweak or enchance Vamb, you'll want to know how well it performs. For this to make any sense, you need to have a *reference*, that is, a list of bins that are deemed true and complete. Otherwise, what do you benchmark against?\n",
    "\n",
    "Vamb's benchmarking works in the following way: You count the number of genomes for which *any* bin has a competeness (recall) above a certain level and a contamination below a certain level (i.e. precision above a certain level). Recall and precision are calculated by the number of basepairs with >= 1x coverage in the right genome versus wrong genomes. In other words, for a bin B and a genome G, the recall is (# basepairs of G covered by a contig in B) / (# basepairs of G covered by any contig), and precision is (# basepairs of G covered by a contig in B) / (# basepairs of any genome covered by a contig in B). An bin *can* count towards multiple genomes given a low enough precision threshold.\n",
    "\n",
    "Let's go through how to benchmark your bins.\n",
    "\n",
    "---\n",
    "#### Genome reference file\n",
    "First, you need a proper reference. For each contig (or sequence) you are binning, you need to provide:\n",
    "* The name of the contig\n",
    "* The name of the genome the contig is coming from (genome names may be arbitrarily chosen)\n",
    "* The name of the reference contig from that genome (may also be arbitrarily chosen)\n",
    "* The leftmost position (start) of where the contig aligns to the reference contig\n",
    "* The rightmost position (end) of where the contig aligns to the reference contig.\n",
    "\n",
    "This information is given as a tab-separated file, with one line per contig. For example, suppose that I have a contig `test_contig_45` which I have located to belong to position 113501 to position 132884 in the reference contig `NC_013740.1` of the genome of `Acidaminococcus fermentans`. Then, one of the lines in the reference file will be:\n",
    "\n",
    "    test_contig_45     Acidaminococcus fermentans       NC_013740.1    113501     132884\n",
    "\n",
    "This file can then be loaded into a `Reference` object:\n",
    "    \n",
    "    with open('/path/to/ref_file.tsv') as ref_file:\n",
    "        reference = Reference.from_file(ref_file)\n",
    "        \n",
    "#### Reference taxonomy file\n",
    "One can choose to benchmark at different taxonomic levels: A bin that is completely uncontaminated on the genus level may not be pure species-wise. Vamb allows you to benchmark at arbitrary taxonomic levels.\n",
    "\n",
    "The reference file described above is taken to represent the lowest (i.e. most specific) taxonomic level. In the taxonomy file, each genome of the reference file is then assigned to one higher rank. Different genomes may be assigned to the same higher rank, but each genome can only be assigned to one. These higher ranks may then be assigned yet higher ranks, and so on. For example's sake, let us assume the lowest \"Genome\" level in the genome reference file represents strains, and the higher ranks are species, genera and families, in order.\n",
    "\n",
    "In the reference file, this is written as a tab-separated text file with one line per genome, and one column per taxonomic level. Note that the leftmost column is taken to be genome names given in the genome reference file. So, for the example line above of the genome reference file, if a reference taxonomy file is loaded, there *must* be a line where the leftmost column is `Acidaminococcus fermentans`. If the true species/genus/whatever of a genome is unknown, you can assign it to an arbitrarily named species/genus. For example, a reference taxnomy file may begin with the following four lines - note that `Strain_118` is assigned an arbitrary species, genus and family.\n",
    "\n",
    "    Strain_455         Bacillus subtilis         Bacillus           Bacillaceae\n",
    "    Strain_255         Bacillus licheniformis    Bacillus           Bacillaceae\n",
    "    Strain_1067        Clostridium tetani        Clostridium        Clostridiaceae\n",
    "    Strain_118         Strain_118                Strain_118         Strain_118\n",
    "    \n",
    "The definitions given above for *recall* and *precision* only makes sense given known mapping locations for contigs, which are specified in the genome reference file. However, the mapping location of a contig to e.g. a genus is a nonsensical concept. So, how is recall and preicison defined for higher taxonomic levels defined?\n",
    "\n",
    "The recall of a higher taxonomic level is the maximum of all of its members. The precision of a higher taxonomic level is the sum of all of its members.\n",
    "\n",
    "A reference taxonomy file can be added to a `Reference` object like so:\n",
    "\n",
    "    with open('/path/to/tax_file.tsv') as tax_file:\n",
    "        reference.load_tax_file(tax_file)"
   ]
  },
  {
   "cell_type": "markdown",
   "metadata": {},
   "source": [
    "Then you need to load your observed bins. The format of this file is expected to be the same as the output of Vamb, namely a two-column file, with arbitrary bin names in the first column and contig names in the second column. Any contig seen in the observed bins is expected to be present in the reference as well. You also need to provide the reference:\n",
    "\n",
    "    with open('/path/to/clusters.tsv') as clusters_file:\n",
    "        bins = Binning.from_file(clusters_file, reference)\n",
    "        \n",
    "You can the query the bins for information about the quality of your bins. Below I'll show an example of this in practice: I will use Vamb's (default) performance on the `metabat_errorfree` dataset and compare it to that of MetaBAT2."
   ]
  },
  {
   "cell_type": "code",
   "execution_count": 43,
   "metadata": {},
   "outputs": [
    {
     "name": "stdout",
     "output_type": "stream",
     "text": [
      "gi|224815735|ref|NZ_ACGB01000001.1|_[Acidaminococcus_D21_uid55871]_1-5871\tAcidaminococcus_D21_uid55871\tNZ_ACGB01000001.1\t1\t5871\r\n",
      "gi|224815735|ref|NZ_ACGB01000001.1|_[Acidaminococcus_D21_uid55871]_5841-8340\tAcidaminococcus_D21_uid55871\tNZ_ACGB01000001.1\t5841\t8340\r\n",
      "gi|224815735|ref|NZ_ACGB01000001.1|_[Acidaminococcus_D21_uid55871]_8310-10809\tAcidaminococcus_D21_uid55871\tNZ_ACGB01000001.1\t8310\t10809\r\n",
      "gi|224815735|ref|NZ_ACGB01000001.1|_[Acidaminococcus_D21_uid55871]_10779-29944\tAcidaminococcus_D21_uid55871\tNZ_ACGB01000001.1\t10779\t29944\r\n",
      "gi|224815735|ref|NZ_ACGB01000001.1|_[Acidaminococcus_D21_uid55871]_29914-33073\tAcidaminococcus_D21_uid55871\tNZ_ACGB01000001.1\t29914\t33073\r\n",
      "gi|224815735|ref|NZ_ACGB01000001.1|_[Acidaminococcus_D21_uid55871]_33043-41174\tAcidaminococcus_D21_uid55871\tNZ_ACGB01000001.1\t33043\t41174\r\n",
      "gi|224815735|ref|NZ_ACGB01000001.1|_[Acidaminococcus_D21_uid55871]_41144-44994\tAcidaminococcus_D21_uid55871\tNZ_ACGB01000001.1\t41144\t44994\r\n",
      "gi|224815735|ref|NZ_ACGB01000001.1|_[Acidaminococcus_D21_uid55871]_44964-53996\tAcidaminococcus_D21_uid55871\tNZ_ACGB01000001.1\t44964\t53996\r\n",
      "gi|224815735|ref|NZ_ACGB01000001.1|_[Acidaminococcus_D21_uid55871]_53966-59194\tAcidaminococcus_D21_uid55871\tNZ_ACGB01000001.1\t53966\t59194\r\n",
      "gi|224815735|ref|NZ_ACGB01000001.1|_[Acidaminococcus_D21_uid55871]_59164-65356\tAcidaminococcus_D21_uid55871\tNZ_ACGB01000001.1\t59164\t65356\r\n"
     ]
    }
   ],
   "source": [
    "# First load in the Reference\n",
    "reference_path = '/Users/jakobnissen/Downloads/vambdata/metahit/reference.tsv'\n",
    "\n",
    "!head $reference_path # show first 10 lines of reference file\n",
    "\n",
    "with open(reference_path) as reference_file:\n",
    "    reference = vamb.benchmark.Reference.from_file(reference_file)"
   ]
  },
  {
   "cell_type": "markdown",
   "metadata": {},
   "source": [
    "---\n",
    "The first 10 lines wrap, but you can see the information expected to be present.\n",
    "\n",
    "The `reference` object contains a bunch of attributes which keeps track of which contigs belongs to which bins. You can see which ones using good ol' `help`:\n",
    "\n",
    "`>>> help(reference)`\n",
    "\n",
    "    class Reference(builtins.object)\n",
    "     |  Reference(genomes, taxmaps=[])\n",
    "     |  \n",
    "     |  A set of Genomes known to represent the ground truth for binning.\n",
    "     |  Instantiate with any iterable of Genomes.\n",
    "     |  \n",
    "     |  >>> print(my_genomes)\n",
    "     |  [Genome('E. coli'), ncontigs=95, breadth=5012521),\n",
    "     |   Genome('Y. pestis'), ncontigs=5, breadth=46588721)]\n",
    "     |  >>> Reference(my_genomes)\n",
    "     |  Reference(ngenomes=2, ncontigs=100)\n",
    "     |  \n",
    "     |  Properties:\n",
    "     |  self.genomes: {genome_name: genome} dict\n",
    "     |  self.contigs: {contig_name: contig} dict\n",
    "     |  self.genomeof: {contig: genome} dict\n",
    "     |  self.breadth: Total length of all genomes\n",
    "     |  self.ngenomes\n",
    "     |  self.ncontigs\n",
    "\n",
    "        [ ... ]\n",
    "    \n",
    "Now, I can load in the taxonomy file:\n",
    "\n",
    "---"
   ]
  },
  {
   "cell_type": "code",
   "execution_count": 45,
   "metadata": {},
   "outputs": [
    {
     "name": "stdout",
     "output_type": "stream",
     "text": [
      "Acidaminococcus_D21_uid55871\tAcidaminococcus_D21_uid55871\tAcidaminococcus\r\n",
      "Acidaminococcus_fermentans_DSM_20731_uid43471\tAcidaminococcus fermentans\tAcidaminococcus\r\n",
      "Acidaminococcus_intestini_RyC_MR95_uid74445\tAcidaminococcus intestini\tAcidaminococcus\r\n",
      "Actinomyces_ICM47_uid170984\tActinomyces_ICM47_uid170984\tActinomyces\r\n",
      "Adlercreutzia_equolifaciens_DSM_19450_uid223286\tAdlercreutzia equolifaciens\tAdlercreutzia\r\n",
      "Aeromicrobium_JC14_uid199535\tAeromicrobium_JC14_uid199535\tAeromicrobium\r\n",
      "Akkermansia_muciniphila_ATCC_BAA_835_uid58985\tAkkermansia muciniphila\tAkkermansia\r\n",
      "Alcanivorax_hongdengensis_A_11_3_uid176602\tAlcanivorax hongdengensis\tAlcanivorax\r\n",
      "Alistipes_AP11_uid199714\tAlistipes_AP11_uid199714\tAlistipes\r\n",
      "Alistipes_HGB5_uid67587\tAlistipes_HGB5_uid67587\tAlistipes\r\n"
     ]
    }
   ],
   "source": [
    "taxonomy_path = '/Users/jakobnissen/Downloads/vambdata/metahit/taxonomy.tsv'\n",
    "\n",
    "!head $taxonomy_path # show first 10 lines of reference file\n",
    "\n",
    "with open(taxonomy_path) as taxonomy_file:\n",
    "    reference.load_tax_file(taxonomy_file)"
   ]
  },
  {
   "cell_type": "markdown",
   "metadata": {},
   "source": [
    "---\n",
    "Now. we may load the binning itself. I'll automatically filter all bins smaller than 200,000 basepairs away:"
   ]
  },
  {
   "cell_type": "code",
   "execution_count": 22,
   "metadata": {},
   "outputs": [],
   "source": [
    "with open('/Users/jakni/Downloads/vamb/results/default_vamb/metahit/clusters.tsv') as clusters_file:\n",
    "    vamb_clusters = vamb.cluster.read_clusters(clusters_file)\n",
    "    vamb_bins = vamb.benchmark.Binning(vamb_clusters, reference, minsize=200000)\n",
    "    \n",
    "with open('/Users/jakni/Downloads/vamb/results/default_metabat/metahit/clusters.tsv') as clusters_file:\n",
    "    metabat_clusters = vamb.cluster.read_clusters(clusters_file)\n",
    "    metabat_bins = vamb.benchmark.Binning(metabat_clusters, reference, minsize=200000)"
   ]
  },
  {
   "cell_type": "markdown",
   "metadata": {},
   "source": [
    "---\n",
    "The Binning object keeps track of your bins and how they relate to the `Reference`:\n",
    "\n",
    "    help(vamb_bins)\n",
    "    \n",
    "    class Binning(builtins.object)\n",
    "     |  Binning(contigsof, reference, recalls=[0.3, 0.4, 0.5, 0.6, 0.7, 0.8, 0.9, 0.95, 0.99], precisions=[0.3, 0.4, 0.5, 0.6, 0.7, 0.8, 0.9, 0.95, 0.99], checkpresence=True, disjoint=True, binsplit_separator=None, minsize=None, mincontigs=None)\n",
    "     |  \n",
    "     |  The result of a set of clusters applied to a Reference.\n",
    "     |  >>> ref\n",
    "     |  (Reference(ngenomes=2, ncontigs=5)\n",
    "     |  >>> b = Binning({'bin1': {contig1, contig2}, 'bin2': {contig3, contig4}}, ref)\n",
    "     |  Binning(4/5 contigs, ReferenceID=0x7fe908180be0)\n",
    "     |  >>> b[0.5, 0.9] # num. genomes 0.5 recall, 0.9 precision\n",
    "     |  1\n",
    "     |  \n",
    "     |  Init arguments:\n",
    "     |  ----------- Required ---------\n",
    "     |  contigsof:     Dict of clusters, each sequence present in the Reference\n",
    "     |  reference:     Associated Reference object\n",
    "     |  ----------- Optional ---------\n",
    "     |  recalls:       Iterable of minimum recall thresholds\n",
    "     |  precisions:    Iterable of minimum precision thresholds\n",
    "     |  checkpresence: Whether to raise an error if a sequence if not present in Reference\n",
    "     |  disjoint:      Whether to raise an error if a sequence is in multiple bins\n",
    "     |  binsplit_separator: Split bins according to prefix before this separator in seq name\n",
    "     |  minsize:       Minimum sum of sequence lengths in a bin to not be ignored\n",
    "     |  mincontigs:    Minimum number of sequence in a bin to not be ignored\n",
    "     |  \n",
    "     |  Properties:\n",
    "     |  self.reference:       Reference object of this benchmark\n",
    "     |  self.recalls:         Sorted tuple of recall thresholds\n",
    "     |  self.precisions:      Sorted tuple of precision thresholds\n",
    "     |  self.nbins:           Number of bins\n",
    "     |  self.ncontigs:        Number of binned contigs\n",
    "     |  self.contigsof:       {bin_name: {contig set}}\n",
    "     |  self.binof:           {contig: bin_name(s)}, val is str or set\n",
    "     |  self.breadthof:       {bin_name: breadth}\n",
    "     |  self.intersectionsof: {genome: {bin:_name: intersection}}\n",
    "     |  self.breadth:         Total breadth of all bins\n",
    "     |  self.counters:        List of (rec, prec) Counters of genomes for each taxonomic rank\n",
    "     |  \n",
    "     |  Methods defined here:\n",
    "     \n",
    "     [ ... ]"
   ]
  },
  {
   "cell_type": "markdown",
   "metadata": {},
   "source": [
    "---\n",
    "The easiest way to get information about the quality of a `Binning` is by using the `summary` method. This prints the number of genomes reconstructed for each taxonomic level for each recall threshold at a precision threshold of 0.9:\n",
    "\n",
    "---"
   ]
  },
  {
   "cell_type": "code",
   "execution_count": 23,
   "metadata": {},
   "outputs": [
    {
     "name": "stdout",
     "output_type": "stream",
     "text": [
      "Vamb bins:\n",
      "114\t112\t109\t106\t96\t67\t28\t8\t0\n",
      "129\t128\t125\t123\t112\t78\t35\t11\t0\n",
      "59\t59\t58\t58\t57\t50\t30\t11\t0\n",
      "\n",
      "METABAT2 bins:\n",
      "101\t93\t88\t82\t61\t29\t4\t0\t0\n",
      "116\t108\t102\t96\t73\t35\t5\t0\t0\n",
      "51\t48\t48\t48\t43\t32\t6\t2\t0\n"
     ]
    }
   ],
   "source": [
    "print('Vamb bins:')\n",
    "for rank in vamb_bins.summary():\n",
    "    print('\\t'.join(map(str, rank)))\n",
    "print('\\nMETABAT2 bins:')\n",
    "for rank in metabat_bins.summary():\n",
    "    print('\\t'.join(map(str, rank)))"
   ]
  },
  {
   "cell_type": "markdown",
   "metadata": {},
   "source": [
    "---\n",
    "On the [metabat webpage](https://bitbucket.org/berkeleylab/metabat/wiki/CAMI) they have a neat plot where they plot the number of observed bins at different recalls for a specific specificity. Just for fun, let's recreate that here with our data, using the species level.\n",
    "\n",
    "---"
   ]
  },
  {
   "cell_type": "code",
   "execution_count": 24,
   "metadata": {},
   "outputs": [
    {
     "data": {
      "image/png": "[encoded data removed]",
      "text/plain": [
       "<Figure size 720x144 with 1 Axes>"
      ]
     },
     "metadata": {
      "needs_background": "light"
     },
     "output_type": "display_data"
    },
    {
     "data": {
      "image/png": "[encoded data removed]",
      "text/plain": [
       "<Figure size 720x144 with 1 Axes>"
      ]
     },
     "metadata": {
      "needs_background": "light"
     },
     "output_type": "display_data"
    }
   ],
   "source": [
    "import matplotlib.pyplot as plt\n",
    "%matplotlib inline\n",
    "\n",
    "for precision in 0.95, 0.9:\n",
    "    plt.figure(figsize=(10, 2))\n",
    "    colors = ['#DDDDDD', '#AAAAAA', '#777777', '#444444', '#000000']\n",
    "    recalls = [0.5, 0.6, 0.7, 0.8, 0.9]\n",
    "    for y, bins in zip((0, 1), (vamb_bins, metabat_bins)):\n",
    "        for color, recall in zip(colors, recalls):\n",
    "            plt.barh(y, bins.counters[1][(recall, precision)], color=color)\n",
    "\n",
    "    plt.title(str(precision), fontsize=18)\n",
    "    plt.yticks([0, 1], ['Vamb', 'MetaBAT2'], fontsize=16)\n",
    "    plt.xticks([i*25 for i in range(5)], fontsize=13)\n",
    "    plt.legend([str(i) for i in recalls], bbox_to_anchor=(1, 1.1), title='Recall', fontsize=12)\n",
    "    \n",
    "    if precision == 0.9:\n",
    "        plt.xlabel('# of Genomes Identified', fontsize=16)\n",
    "    plt.gca().set_axisbelow(True)\n",
    "    plt.grid()"
   ]
  }
 ],
 "metadata": {
  "@webio": {
   "lastCommId": null,
   "lastKernelId": null
  },
  "kernelspec": {
   "display_name": "Python 3",
   "language": "python",
   "name": "python3"
  },
  "language_info": {
   "codemirror_mode": {
    "name": "ipython",
    "version": 3
   },
   "file_extension": ".py",
   "mimetype": "text/x-python",
   "name": "python",
   "nbconvert_exporter": "python",
   "pygments_lexer": "ipython3",
   "version": "3.6.10"
  }
 },
 "nbformat": 4,
 "nbformat_minor": 4
}
