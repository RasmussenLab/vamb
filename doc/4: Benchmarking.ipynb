{
 "cells": [
  {
   "cell_type": "markdown",
   "metadata": {},
   "source": [
    "## Optional step four: Benchmarking your bins\n",
    "\n",
    "For this to make any sense, you need to have a *reference*, that is, a list of bins that are deemed true and complete. Otherwise, what do you benchmark against?\n",
    "\n",
    "Figuring out a proper way to benchmark binning tools is actually really hard because it requires taking a lot of subjective choices. When is a bin properly predicted? If we only accept perfectly binned bins, basically all binners have a 0 % accuracy. For any one bin we can calculate the fraction of the true genome present and the fraction of contaminating DNA - but if e.g. transposons are harder to bin, should they really count? And if a true bin is split across 25 % in four different observed bins, does that mean 25 % of the true genome is present in those bins, or is it in fact 0 %, because each of those bins will be predicted to be something different? If contigs are present in multiple bins, how do you prevent a bin from having more than 100 % presence? And finally, if your reference contains a broad selection of similar strains, surely it's not as bad to mix strains of the same species as to mix genomes from different phyla? And should you be benchmarked on the number of good bins you construct, or the fraction of good bins out of all the bins you make?\n",
    "\n",
    "These choices have a significant impact on how you asses performance of your binner. For example, early on in the development of Vamb, we *did* allow the same contig present in multiple bins to both count towards completeness of bins. This led to a bias towards creating a huge number of overlapping bins until we changed the benchmarking.\n",
    "\n",
    "Vambs benchmarking works in the following way: You count the number of reference bins for which *any* observed bin has a competeness (recall) above a certain level and a contamination below a certain level (precision above a certain level). Recall and precision is calculated with each contig weighed by its length, i.e. on a nucleotide level. An observed bin *can* count towards multiple reference bins given a low enough recall threshold.\n",
    "\n",
    "---"
   ]
  },
  {
   "cell_type": "code",
   "execution_count": 2,
   "metadata": {},
   "outputs": [],
   "source": [
    "import sys\n",
    "sys.path.append('/home/jakni/Documents/scripts/')\n",
    "import vamb"
   ]
  },
  {
   "cell_type": "markdown",
   "metadata": {},
   "source": [
    "---\n",
    "The reference for Vamb must be either:\n",
    "\n",
    "* A {clustername: set(contignames)} dict along with a {contigname: length} dict, just like the `clusters` and `lengthof` we made in the previous chapter, *or*\n",
    "\n",
    "* A tab-separated file with (clustername, contigname, length)-rows, one row per contig.\n",
    "\n",
    "---"
   ]
  },
  {
   "cell_type": "code",
   "execution_count": 3,
   "metadata": {},
   "outputs": [],
   "source": [
    "reference_path = '/home/jakni/Downloads/example/metabat_reference.tsv'\n",
    "\n",
    "with open(reference_path) as filehandle:\n",
    "    reference = vamb.benchmark.Reference.fromfile(filehandle)"
   ]
  },
  {
   "cell_type": "markdown",
   "metadata": {},
   "source": [
    "---\n",
    "The `reference` object contains a bunch of attributes which keeps track of which contigs belongs to which bins. You can see which ones using good ol' `help`:\n",
    "\n",
    "`>>> help(reference)`\n",
    "\n",
    "    Help on Reference in module vamb.benchmark object:\n",
    "\n",
    "        class Reference(builtins.object)\n",
    "         |  Reference clusters.\n",
    "         |  \n",
    "         |  Init with {name: set_of_contig} dict (a) and {contigname: length} dict (b):\n",
    "         |  >>> reference = Reference(a, b)\n",
    "         |  \n",
    "         |  Init with iterator of tab-sep lines of clustername, contigname, contiglength:\n",
    "         |  >>> with open('/path/to/reference.tsv') as line_iterator:\n",
    "         |  ...     filtered_lines = filter(str.startswith('HUMAN'), line_iterator)\n",
    "         |  ...     reference = Reference.fromfile(filtered_lines) # or with filehandle\n",
    "         |  \n",
    "         |  Attributes:\n",
    "         |      self.nbins: Number of bins\n",
    "         |      self.ncontigs: Number of contigs\n",
    "         |      self.contigsof: binname: set(contigsnames) dict\n",
    "         |      self.binof: contigname: binname dict\n",
    "         |      self.contiglength: contigname: contiglength dict\n",
    "         |      self.binlength: binname: sum_of_contiglengths_for_bin dict\n",
    "\n",
    "    [ ... ]\n",
    "    \n",
    "We also need to instantiate the observed bins.\n",
    "\n",
    "For this, we also need a {clustername: set(contigs)} dict, where each contig is present in the reference. We could load this to memory using the `vamb.cluster.readclusters` function, or we could also instantiate the Observed using `Observed.fromfile` like we did the reference - in that case, we would have to use the metabat_bins.tsv we created last chapter.\n",
    "\n",
    "Let's load the bins to memory - we might want to tweak the bins manually.\n",
    "\n",
    "---"
   ]
  },
  {
   "cell_type": "code",
   "execution_count": 11,
   "metadata": {},
   "outputs": [],
   "source": [
    "with open('/home/jakni/Downloads/example/metabat_bins.tsv') as file:\n",
    "    bins = vamb.cluster.read_clusters(file)\n",
    "observed = vamb.benchmark.Observed(bins, reference)\n",
    "\n",
    "# Keyword-only arguments to make sure you don't accidentally swap them around.\n",
    "# It'll raise an error if you use non-keyword arguments.\n",
    "result = vamb.benchmark.BenchMarkResult(reference=reference, observed=observed)"
   ]
  },
  {
   "cell_type": "markdown",
   "metadata": {},
   "source": [
    "This object also has a bunch of attributes - it calculates the number of reference bins at specified recalls and precisions, the Matthew's correlation coefficient and F-score of each reference bin and keeps some stats on the number of reference vs. observed bins. Again, you can see all the attributes with `help`:\n",
    "\n",
    "`>>> help(result)`\n",
    "\n",
    "    Help on BenchMarkResult in module vamb.benchmark object:\n",
    "\n",
    "        class BenchMarkResult(builtins.object)\n",
    "         |  An object holding some benchmark results:\n",
    "         |  \n",
    "         |  Init from Reference object and Observed object using keywords:\n",
    "         |  >>> result = BenchmarkResult(reference=reference, observed=observed)\n",
    "         |  \n",
    "         |  recall_weight is the weight of recall relative to precision; to weigh\n",
    "         |  precision higher than recall, use a value between 0 and 1.\n",
    "         |  \n",
    "         |  Get number of references found at recall, precision:\n",
    "         |  >>> result[(recall, precision)]\n",
    "         |  Get number of references found at recall or precision\n",
    "         |  >>> result.atrecall/atprecision(recall/precision)\n",
    "         |  Print number of references at all recalls and precisions:\n",
    "         |  >>> result.printmatrix()\n",
    "         |      \n",
    "         |  Attributes:\n",
    "         |      self.nreferencebins: Number of reference bins\n",
    "         |      self.nobservedbins: Number of observed bins\n",
    "         |      self.recalls: Tuple of sorted recalls used to init the object\n",
    "         |      self.precisions: Tuple of sorted precisions used to init the object\n",
    "         |      self.recall_weight: Weight of recall when computing Fn-score\n",
    "         |      self.fscoreof: ref_bin_name: float dict of reference bin Fn-scores\n",
    "         |      self.fmean: Mean fscore\n",
    "         |      self.mccof: ref_bin_name: float dict of MCC values\n",
    "         |      self.mccmean: Mean Matthew's Correlation Coefficient (MCC)\n",
    "         |      self._binsfound: (recall, prec): n_bins Counter\n",
    "     \n",
    "     [ ... ]\n",
    "     "
   ]
  },
  {
   "cell_type": "markdown",
   "metadata": {},
   "source": [
    "---\n",
    "On the [metabat webpage](https://bitbucket.org/berkeleylab/metabat/wiki/CAMI) they have a neat plot where they plot the number of observed bins at different recalls for a specific specificity. Just for fun, let's recreate that here with the metabat_errorfree data.\n",
    "\n",
    "---"
   ]
  },
  {
   "cell_type": "code",
   "execution_count": 12,
   "metadata": {},
   "outputs": [],
   "source": [
    "import matplotlib.pyplot as plt\n",
    "%matplotlib inline"
   ]
  },
  {
   "cell_type": "code",
   "execution_count": 14,
   "metadata": {},
   "outputs": [],
   "source": [
    "# Load results from our run of Metabat2 on Metabat_errorfree dataset\n",
    "with open('/mnt/computerome/projects/deep_bin/paper/metabat_on_metabat/observed.tsv') as file:\n",
    "    obs_metabat = vamb.benchmark.Observed.fromfile(file, reference)\n",
    "    \n",
    "metabatresult = vamb.benchmark.BenchMarkResult(reference=reference, observed=obs_metabat)"
   ]
  },
  {
   "cell_type": "code",
   "execution_count": 15,
   "metadata": {
    "scrolled": false
   },
   "outputs": [
    {
     "data": {
      "image/png": "[encoded data removed]",
      "text/plain": [
       "<Figure size 720x144 with 1 Axes>"
      ]
     },
     "metadata": {},
     "output_type": "display_data"
    },
    {
     "data": {
      "image/png": "[encoded data removed]",
      "text/plain": [
       "<Figure size 720x144 with 1 Axes>"
      ]
     },
     "metadata": {},
     "output_type": "display_data"
    }
   ],
   "source": [
    "for precision in 0.95, 0.9:\n",
    "\n",
    "    plt.figure(figsize=(10, 2))\n",
    "    colors = ['#DDDDDD', '#BBBBBB', '#888888', '#666666', '#222222']\n",
    "    recalls = [0.5, 0.6, 0.7, 0.8, 0.9]\n",
    "    for y, benchmark in zip((0, 1), (result, metabatresult)):\n",
    "        for color, recall in zip(colors, recalls):\n",
    "            plt.barh(y, benchmark[recall, precision], color=color)\n",
    "\n",
    "    plt.title(str(precision), fontsize=18)\n",
    "    plt.yticks([0, 1], ['Vamb', 'MetaBat2'], fontsize=16)\n",
    "    plt.xticks([i*25 for i in range(5)], fontsize=13)\n",
    "    plt.legend([str(i) for i in reversed(recalls)], bbox_to_anchor=(1, 1.1), title='Recall', fontsize=12)\n",
    "    \n",
    "    if precision == 0.9:\n",
    "        plt.xlabel('# of Genomes Identified', fontsize=16)\n",
    "    plt.gca().set_axisbelow(True)\n",
    "    plt.grid()"
   ]
  },
  {
   "cell_type": "code",
   "execution_count": null,
   "metadata": {},
   "outputs": [],
   "source": []
  }
 ],
 "metadata": {
  "kernelspec": {
   "display_name": "Python 3",
   "language": "python",
   "name": "python3"
  },
  "language_info": {
   "codemirror_mode": {
    "name": "ipython",
    "version": 3
   },
   "file_extension": ".py",
   "mimetype": "text/x-python",
   "name": "python",
   "nbconvert_exporter": "python",
   "pygments_lexer": "ipython3",
   "version": "3.6.5"
  }
 },
 "nbformat": 4,
 "nbformat_minor": 2
}
